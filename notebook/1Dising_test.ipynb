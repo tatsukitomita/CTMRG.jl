{
 "cells": [
  {
   "cell_type": "code",
   "execution_count": 2,
   "id": "0f1140de",
   "metadata": {},
   "outputs": [],
   "source": [
    "using Revise"
   ]
  },
  {
   "cell_type": "code",
   "execution_count": 3,
   "id": "42137149",
   "metadata": {},
   "outputs": [],
   "source": [
    "using ITensors\n",
    "using Test"
   ]
  },
  {
   "cell_type": "code",
   "execution_count": 4,
   "id": "2ac077b8",
   "metadata": {},
   "outputs": [
    {
     "name": "stderr",
     "output_type": "stream",
     "text": [
      "\u001b[36m\u001b[1m[ \u001b[22m\u001b[39m\u001b[36m\u001b[1mInfo: \u001b[22m\u001b[39mPrecompiling CTMRG [c050b7f9-16a0-4967-b3f3-566d5b3f75cc] (cache misses: include_dependency fsize change (2))\n"
     ]
    }
   ],
   "source": [
    "import CTMRG"
   ]
  },
  {
   "cell_type": "code",
   "execution_count": 5,
   "id": "b2eac17e",
   "metadata": {},
   "outputs": [
    {
     "data": {
      "text/plain": [
       "ising_transfer_element_1D (generic function with 1 method)"
      ]
     },
     "execution_count": 5,
     "metadata": {},
     "output_type": "execute_result"
    }
   ],
   "source": [
    "function ising_transfer_element_1D(i1::Int, i2::Int,β::Float64,J::Float64)\n",
    "    s1 = 2*i1 - 1\n",
    "    s2 = 2*i2 - 1\n",
    "    expvalue = exp(β*J*s1*s2)\n",
    "    return expvalue\n",
    "end"
   ]
  },
  {
   "cell_type": "code",
   "execution_count": 6,
   "id": "07e41b59",
   "metadata": {},
   "outputs": [
    {
     "name": "stdout",
     "output_type": "stream",
     "text": [
      "\u001b[0m\u001b[1mTest Summary:             | \u001b[22m\u001b[32m\u001b[1mPass  \u001b[22m\u001b[39m\u001b[36m\u001b[1mTotal  \u001b[22m\u001b[39m\u001b[0m\u001b[1mTime\u001b[22m\n",
      "ising_transfer_element_1D | \u001b[32m   4  \u001b[39m\u001b[36m    4  \u001b[39m\u001b[0m0.2s\n"
     ]
    }
   ],
   "source": [
    "@testset \"ising_transfer_element_1D\" begin\n",
    "    β = 1.0\n",
    "    J = 1.0\n",
    "    @test ising_transfer_element_1D(0, 0, β, J) ≈ exp(β*J)\n",
    "    @test ising_transfer_element_1D(0, 1, β, J) ≈ exp(-β*J)\n",
    "    @test ising_transfer_element_1D(1, 0, β, J) ≈ exp(-β*J)     \n",
    "    @test ising_transfer_element_1D(1, 1, β, J) ≈ exp(β*J)    \n",
    "end\n",
    ";"
   ]
  },
  {
   "cell_type": "code",
   "execution_count": 7,
   "id": "1081023e",
   "metadata": {},
   "outputs": [],
   "source": [
    "#テンソル行列に値をセットする\n",
    "s1 = Index(2, \"s1,m=1\")\n",
    "s2 = Index(2, \"s2,n=1\")\n",
    "T = ITensor(s1, s2)\n",
    "for i in 0:1, j in 0:1\n",
    "    T[s1=>i+1, s2=>j+1] = ising_transfer_element_1D(i, j, 1.0, 1.0)\n",
    "end\n",
    "T\n",
    ";\n"
   ]
  },
  {
   "cell_type": "code",
   "execution_count": 8,
   "id": "16aeb42f",
   "metadata": {},
   "outputs": [
    {
     "data": {
      "text/plain": [
       "ising_transfer_matrix_1D (generic function with 1 method)"
      ]
     },
     "execution_count": 8,
     "metadata": {},
     "output_type": "execute_result"
    }
   ],
   "source": [
    "#1Dイジングの転送行列を作る関数\n",
    "function ising_transfer_matrix_1D(β::Float64, J::Float64,s1::Index, s2::Index)\n",
    "    T = ITensor(s1, s2)\n",
    "    for i in 0:1, j in 0:1\n",
    "        T[s1=>i+1, s2=>j+1] = ising_transfer_element_1D(i, j, β, J)\n",
    "    end\n",
    "    return T\n",
    "end"
   ]
  },
  {
   "cell_type": "code",
   "execution_count": null,
   "id": "d68c3e74",
   "metadata": {},
   "outputs": [
    {
     "name": "stdout",
     "output_type": "stream",
     "text": [
      "\u001b[0m\u001b[1mTest Summary:                 | \u001b[22m\u001b[32m\u001b[1mPass  \u001b[22m\u001b[39m\u001b[36m\u001b[1mTotal  \u001b[22m\u001b[39m\u001b[0m\u001b[1mTime\u001b[22m\n",
      "ising_transfer_element_1Dのテスト | \u001b[32m   1  \u001b[39m\u001b[36m    1  \u001b[39m\u001b[0m0.0s\n"
     ]
    },
    {
     "data": {
      "text/plain": [
       "Test.DefaultTestSet(\"ising_transfer_element_1Dのテスト\", Any[], 1, false, false, true, 1.754278102838814e9, 1.754278102886097e9, false, \"In[9]\")"
      ]
     },
     "execution_count": 9,
     "metadata": {},
     "output_type": "execute_result"
    }
   ],
   "source": [
    "@testset \"ising_transfer_matrix_1Dのテスト\" begin\n",
    "    β = 1.0\n",
    "    J = 1.0\n",
    "    s1 = Index(2, \"s1,m=1\")\n",
    "    s2 = Index(2, \"s2,n=1\")\n",
    "    T = ising_transfer_matrix_1D(β,J,s1,s2)\n",
    "    @test T[s1=>1, s2=>1] ≈ exp(β*J)\n",
    "end"
   ]
  },
  {
   "cell_type": "code",
   "execution_count": 10,
   "id": "99000594",
   "metadata": {},
   "outputs": [
    {
     "data": {
      "text/plain": [
       "fixend (generic function with 1 method)"
      ]
     },
     "execution_count": 10,
     "metadata": {},
     "output_type": "execute_result"
    }
   ],
   "source": [
    "#境界条件を表す関数\n",
    "function freeend(ind1::Index)\n",
    "    D = ITensor(ind1)\n",
    "    D[ind1 => 1] = 1.0\n",
    "    D[ind1 => 2] = 1.0\n",
    "    return D\n",
    "end\n",
    "function fixend(ind1::Index)\n",
    "    D = ITensor(ind1)\n",
    "    D[ind1 => 1] = 1.0\n",
    "    D[ind1 => 2] = 0.0\n",
    "    return D\n",
    "end "
   ]
  },
  {
   "cell_type": "code",
   "execution_count": 11,
   "id": "934a98c0",
   "metadata": {},
   "outputs": [],
   "source": [
    "#縮約の練習\n",
    "s1 = Index(2, \"s1,n=1\")\n",
    "s2 = Index(2, \"s2,n=2\")\n",
    "R = fixend(s1)\n",
    "T = ising_transfer_matrix_1D(1.0, 1.0, s1, s2)\n",
    "L = fixend(s2)\n",
    "RT = R * T\n",
    "LRT = RT * L\n",
    ";"
   ]
  },
  {
   "cell_type": "code",
   "execution_count": 12,
   "id": "a90f8044",
   "metadata": {},
   "outputs": [],
   "source": [
    "#分配関数の計算\n",
    "N = 4\n",
    "β = 1.0\n",
    "J = 1.0\n",
    "s_list = Vector{Index}(undef, N) \n",
    "T_list = Vector{ITensor}(undef, N-1)          # 転送行列を格納する配列\n",
    "boundary = Vector{ITensor}(undef, 2)\n",
    "for i in 1:N\n",
    "    s_list[i] = Index(2, \"s, n=$i\")\n",
    "end\n",
    "for i in 1:N\n",
    "    if i == 1\n",
    "        boundary[1] = fixend(s_list[1])\n",
    "        T_list[i] = ising_transfer_matrix_1D(β, J, s_list[i], s_list[i+1])\n",
    "    elseif i == N\n",
    "        boundary[2] = fixend(s_list[N])\n",
    "    else \n",
    "        T_list[i] = ising_transfer_matrix_1D(β, J, s_list[i], s_list[i+1])\n",
    "    end\n",
    "end\n",
    "#=\n",
    "for i in 0:N-1\n",
    "    s_list[i+1] = Index(2, \"s, n=$(i+1)\")\n",
    "end\n",
    "#@show s_list\n",
    "for i in 0:1\n",
    "    if i == 0\n",
    "        boundary[i+1] = freeend(s_list[1])\n",
    "    else\n",
    "        boundary[i+1] = freeend(s_list[N])\n",
    "    end\n",
    "end\n",
    "for i in 0:N-2\n",
    "    T_list[i+1] = ising_transfer_matrix_1D(1.0, 1.0, s_list[i+1], s_list[i+2])\n",
    "end\n",
    "=#\n",
    ";\n"
   ]
  },
  {
   "cell_type": "code",
   "execution_count": 13,
   "id": "3b32a4d7",
   "metadata": {},
   "outputs": [
    {
     "data": {
      "text/plain": [
       "partition_function_contraction (generic function with 1 method)"
      ]
     },
     "execution_count": 13,
     "metadata": {},
     "output_type": "execute_result"
    }
   ],
   "source": [
    "#1次元イジング模型の分配関数を計算する関数\n",
    "function partition_function_1D(N::Int, β::Float64, J::Float64)\n",
    "    s_list = Vector{Index}(undef, N) \n",
    "    T_list = Vector{ITensor}(undef, N-1)          # 転送行列を格納する配列\n",
    "    boundary = Vector{ITensor}(undef, 2)\n",
    "    for i in 1:N\n",
    "        s_list[i] = Index(2, \"s, n=$i\")\n",
    "    end\n",
    "    for i in 1:N\n",
    "        if i == 1\n",
    "            boundary[1] = fixend(s_list[1])\n",
    "            T_list[i] = ising_transfer_matrix_1D(β, J, s_list[i], s_list[i+1])\n",
    "        elseif i == N\n",
    "            boundary[2] = fixend(s_list[N])\n",
    "        else \n",
    "            T_list[i] = ising_transfer_matrix_1D(β, J, s_list[i], s_list[i+1])\n",
    "        end\n",
    "    end\n",
    "    return s_list, T_list, boundary\n",
    "end\n",
    "#分配関数の縮約をとる関数\n",
    "function partition_function_contraction(N::Int)\n",
    "    result = ITensor(true)\n",
    "    s_list, T_list, boundary = partition_function_1D(N, β, J)\n",
    "    L = boundary[1]\n",
    "    R = boundary[2]\n",
    "    for T in T_list\n",
    "        result = result * T   # 順に縮約\n",
    "    end\n",
    "    return only(L * result * R) #順番は任意\n",
    "end"
   ]
  },
  {
   "cell_type": "code",
   "execution_count": 14,
   "id": "fddc82cc",
   "metadata": {},
   "outputs": [
    {
     "name": "stdout",
     "output_type": "stream",
     "text": [
      "result = ITensor(true) = ITensor ord=0\n",
      "NDTensors.Dense{Bool, Vector{Bool}}\n",
      " 0-dimensional\n",
      "true\n",
      "Z = only(L * result * R) = 21.189175246701993\n",
      "ref_Z = 0.5 * (2 * cosh(β * J)) ^ (N - 1) + 0.5 * (2 * sinh(β * J)) ^ (N - 1) = 21.189175246701993\n"
     ]
    }
   ],
   "source": [
    "s_list, T_list, boundary = partition_function_1D(N, 1.0, 1.0)\n",
    "@show result = ITensor(true)\n",
    "L = boundary[1]\n",
    "R = boundary[2]\n",
    "for T in T_list\n",
    "    result = result * T   # 順に縮約\n",
    "end\n",
    "@show Z = only(L * result * R)\n",
    "@show ref_Z = 0.5 * (2*cosh(β*J))^(N-1) + 0.5 * (2*sinh(β*J))^(N-1)\n",
    ";"
   ]
  },
  {
   "cell_type": "markdown",
   "id": "369e432e",
   "metadata": {},
   "source": [
    "$$一次元イジング模型の期待値を求める"
   ]
  },
  {
   "cell_type": "code",
   "execution_count": 27,
   "id": "934e534d",
   "metadata": {},
   "outputs": [
    {
     "data": {
      "text/plain": [
       "ising_spin_expectation_1D (generic function with 1 method)"
      ]
     },
     "execution_count": 27,
     "metadata": {},
     "output_type": "execute_result"
    }
   ],
   "source": [
    "function ising_spin_expectation_1D(N::Int, i1::Int, β::Float64, J::Float64)\n",
    "    s_list = Vector{Index}(undef, N) \n",
    "    T_list = Vector{ITensor}(undef, N-1)          # 転送行列を格納する配列\n",
    "    boundary = Vector{ITensor}(undef, 2)\n",
    "    for i in 1:N\n",
    "        s_list[i] = Index(2, \"s, n=$i\")\n",
    "    end\n",
    "    s_target = Index(2, \"s_target\")\n",
    "    spin_tensor = CTMRG.spin_tensor(s_list[i1], s_target)\n",
    "    for i in 1:N\n",
    "        if i == 1\n",
    "            boundary[1] = fixend(s_list[1])\n",
    "            T_list[i] = ising_transfer_matrix_1D(β, J, s_list[i], s_list[i+1])\n",
    "        elseif i == i1\n",
    "            #T_list[i] = ising_transfer_matrix_1D(β, J, s_list[i], s_target)\n",
    "            T_list[i] = ising_transfer_matrix_1D(β, J, s_target, s_list[i+1])\n",
    "        elseif i == N\n",
    "            boundary[2] = fixend(s_list[N])\n",
    "        else \n",
    "            T_list[i] = ising_transfer_matrix_1D(β, J, s_list[i], s_list[i+1])\n",
    "        end\n",
    "    end\n",
    "    return s_list, T_list, boundary, spin_tensor\n",
    "end\n",
    "    \n"
   ]
  },
  {
   "cell_type": "code",
   "execution_count": 38,
   "id": "2cb37cf6",
   "metadata": {},
   "outputs": [
    {
     "name": "stdout",
     "output_type": "stream",
     "text": [
      "only(result) / (0.5 * (2 * cosh(β * J)) ^ (N - 1) + 0.5 * (2 * sinh(β * J)) ^ (N - 1)) = 0.9305533251033541\n",
      "ref_s = tanh(β * J) = 0.7615941559557649\n"
     ]
    },
    {
     "data": {
      "text/plain": [
       "0.7615941559557649"
      ]
     },
     "execution_count": 38,
     "metadata": {},
     "output_type": "execute_result"
    }
   ],
   "source": [
    "N = 4\n",
    "β = 1.0\n",
    "J = 1.0\n",
    "s_list, T_list, boundary, spintensor = ising_spin_expectation_1D(N, 3, β, J)\n",
    "result = ITensor(true)\n",
    "for T_list in T_list\n",
    "    result *=  T_list   # 順に縮約\n",
    "end\n",
    "result *= spintensor\n",
    "result *= boundary[1]\n",
    "result *= boundary[2]\n",
    "@show only(result) / (0.5 * (2*cosh(β*J))^(N-1) + 0.5 * (2*sinh(β*J))^(N-1))\n",
    "@show ref_s = tanh(β*J)"
   ]
  }
 ],
 "metadata": {
  "kernelspec": {
   "display_name": "Julia 1.11.5",
   "language": "julia",
   "name": "julia-1.11"
  },
  "language_info": {
   "file_extension": ".jl",
   "mimetype": "application/julia",
   "name": "julia",
   "version": "1.11.5"
  }
 },
 "nbformat": 4,
 "nbformat_minor": 5
}

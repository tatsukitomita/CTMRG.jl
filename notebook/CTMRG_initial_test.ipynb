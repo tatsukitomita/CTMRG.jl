{
 "cells": [
  {
   "cell_type": "code",
   "execution_count": 31,
   "id": "c8e597da",
   "metadata": {},
   "outputs": [],
   "source": [
    "using Revise\n",
    "using Test"
   ]
  },
  {
   "cell_type": "code",
   "execution_count": 64,
   "id": "e591291b",
   "metadata": {},
   "outputs": [],
   "source": [
    "using LinearAlgebra\n",
    "using ITensors\n",
    "import CTMRG"
   ]
  },
  {
   "cell_type": "code",
   "execution_count": 33,
   "id": "4bb98a48",
   "metadata": {},
   "outputs": [
    {
     "data": {
      "text/plain": [
       "C_corner (generic function with 1 method)"
      ]
     },
     "execution_count": 33,
     "metadata": {},
     "output_type": "execute_result"
    }
   ],
   "source": [
    "#３本足テンソルを作るコード\n",
    "function P_edge_end(β, J, σind1, σind2, sind1)\n",
    "    dumyind = Index(2, \"dummy\")\n",
    "    T = CTMRG.ising_transfer_tensor_2D(β, J, σind1, σind2, sind1, dumyind)\n",
    "    D = CTMRG.fixend(dumyind)\n",
    "    P = T*D\n",
    "    return P\n",
    "end\n",
    "function P_centor(β, J, σind1, sind1, sind2)\n",
    "    dumyind = Index(2, \"dummy\")\n",
    "    T = CTMRG.ising_transfer_tensor_2D(β, J, σind1, dumyind, sind1, sind2)\n",
    "    D = CTMRG.fixend(dumyind)\n",
    "    P = T*D\n",
    "    return P\n",
    "end\n",
    "#２本足のテンソルを作るコード\n",
    "function C_corner(β, J, σind1, sind1)\n",
    "    dumyind_σ = Index(2, \"dummy_σ\")\n",
    "    dumyind_s = Index(2, \"dummy_s\")\n",
    "    T = CTMRG.ising_transfer_tensor_2D(β, J, σind1, dumyind_σ, sind1, dumyind_s)\n",
    "    D_σ = CTMRG.fixend(dumyind_σ)\n",
    "    D_s = CTMRG.fixend(dumyind_s)\n",
    "    C = T*D_σ*D_s\n",
    "    return C\n",
    "end"
   ]
  },
  {
   "cell_type": "code",
   "execution_count": 34,
   "id": "2feac53a",
   "metadata": {},
   "outputs": [
    {
     "data": {
      "text/plain": [
       "(dim=2|id=265|\"i=2,j=2,σ\")"
      ]
     },
     "execution_count": 34,
     "metadata": {},
     "output_type": "execute_result"
    }
   ],
   "source": [
    "sind11 = Index(2, \"s,i=1,j=1\")\n",
    "sind12 = Index(2, \"s,i=1,j=2\")\n",
    "sind21 = Index(2, \"s,i=2,j=1\")\n",
    "sind22 = Index(2, \"s,i=2,j=2\")\n",
    "σind11 = Index(2, \"σ,i=1,j=1\")\n",
    "σind12 = Index(2, \"σ,i=1,j=2\")\n",
    "σind21 = Index(2, \"σ,i=2,j=1\")\n",
    "σind22 = Index(2, \"σ,i=2,j=2\")"
   ]
  },
  {
   "cell_type": "code",
   "execution_count": 61,
   "id": "344b3960",
   "metadata": {},
   "outputs": [
    {
     "name": "stdout",
     "output_type": "stream",
     "text": [
      "(inds(cinds))[1] = (dim=4|id=815|\"s_all\")\n",
      "(inds(cindσ))[1] = (dim=4|id=473|\"σ_all\")\n"
     ]
    }
   ],
   "source": [
    "cinds = combiner(sind12, sind22, tags=\"s_all\")\n",
    "cindσ = combiner(σind21, σind22, tags=\"σ_all\")\n",
    "@show inds(cinds)[1]\n",
    "@show inds(cindσ)[1]\n",
    ";"
   ]
  },
  {
   "cell_type": "markdown",
   "id": "42334a4e",
   "metadata": {},
   "source": [
    "$$ 拡大"
   ]
  },
  {
   "cell_type": "code",
   "execution_count": null,
   "id": "1ff79091",
   "metadata": {},
   "outputs": [
    {
     "name": "stdout",
     "output_type": "stream",
     "text": [
      "_C_expand = C_expand * cindσ * cinds = ITensor ord=2\n",
      "Dim 1: (dim=4|id=753|\"σ_all\")\n",
      "Dim 2: (dim=4|id=497|\"s_all\")\n",
      "NDTensors.Dense{Float64, Vector{Float64}}\n",
      " 4×4\n",
      "      8.898259745056167e6  166015.77678748913    166015.77678748913   6079.149576352778\n",
      " 166015.7767874891           3151.8440153356046    3151.844015335604   168.8870346817601\n",
      " 166015.7767874891           3151.8440153356046  172084.85243036106   9220.919658207573\n",
      "   6079.149576352777          168.8870346817601    9220.919658207571  3310.6571165365535\n"
     ]
    }
   ],
   "source": [
    "#拡大の練習\n",
    "β = 1.0\n",
    "J = 1.0\n",
    "P_edge = P_edge_end(β, J, σind11, σind21, sind21)\n",
    "P_c = P_centor(β, J, σind12, sind11, sind12)\n",
    "C = C_corner(β, J, σind11, sind11)\n",
    "W = CTMRG.ising_transfer_tensor_2D(β, J, σind12, σind22, sind21, sind22)\n",
    "_P_edge = P_edge * W\n",
    "C_expand = P_c * C * _P_edge\n",
    "@show _C_expand = C_expand * cindσ * cinds\n",
    ";\n"
   ]
  },
  {
   "cell_type": "markdown",
   "id": "f5edb133",
   "metadata": {},
   "source": [
    "$$ 圧縮"
   ]
  },
  {
   "cell_type": "code",
   "execution_count": 62,
   "id": "792096bc",
   "metadata": {},
   "outputs": [],
   "source": [
    "C_array = array(_C_expand)\n",
    "evals, evecs = eigen(C_array)\n",
    "#ievecs = inv(evecs)\n",
    "Λ, A, iA = CTMRG.make_diag_Tesnor(evals, evecs, inds(cindσ)[1], inds(cinds)[1])\n",
    ";"
   ]
  },
  {
   "cell_type": "code",
   "execution_count": null,
   "id": "8a5a3cc9",
   "metadata": {},
   "outputs": [],
   "source": [
    "function make_CTMRG_ind_stags(L::Int)\n",
    "    i = 2 * L # 行\n",
    "    j = 2 * L -1 # 列\n",
    "    sind_list = Array{Index}(undef, i, j)\n",
    "    for m in 1:j, n in 1:i\n",
    "        sind_list[n, m] = Index(2, \"s, i=$n, j=$m\")\n",
    "    end\n",
    "    return sind_list\n",
    "end\n",
    "function make_CTMRG_ind_σtags(L::Int)\n",
    "    i = 2 * L - 1 #　行\n",
    "    j = 2 * L # 列\n",
    "    σind_list = Array{Index}(undef, i, j)\n",
    "    for m in 1:j, n in 1:i\n",
    "        σind_list[n, m] = Index(2, \"σ, i=$n, j=$m\")\n",
    "    end\n",
    "    return σind_list\n",
    "end"
   ]
  },
  {
   "cell_type": "code",
   "execution_count": null,
   "id": "dc89b096",
   "metadata": {},
   "outputs": [],
   "source": []
  },
  {
   "cell_type": "code",
   "execution_count": null,
   "id": "e24dc75b",
   "metadata": {},
   "outputs": [],
   "source": []
  },
  {
   "cell_type": "code",
   "execution_count": null,
   "id": "c2e65ecf",
   "metadata": {},
   "outputs": [
    {
     "name": "stdout",
     "output_type": "stream",
     "text": [
      "inds(T1_list[1, 1]) = ((dim=2|id=768|\"i=1,j=2,σ\"), (dim=2|id=843|\"i=2,j=1,s\"))\n",
      "inds(T1_list[1, 2]) = ((dim=2|id=879|\"i=2,j=1,σ\"), (dim=2|id=796|\"i=2,j=2,σ\"), (dim=2|id=843|\"i=2,j=1,s\"), (dim=2|id=874|\"i=3,j=1,s\"), (dim=2|id=870|\"i=1,j=2,s\"), (dim=2|id=470|\"i=1,j=3,σ\"))\n",
      "inds(T1_list[2, 1]) = ((dim=2|id=768|\"i=1,j=2,σ\"), (dim=2|id=470|\"i=1,j=3,σ\"), (dim=2|id=870|\"i=1,j=2,s\"), (dim=2|id=779|\"i=2,j=2,s\"), (dim=2|id=879|\"i=2,j=1,σ\"), (dim=2|id=874|\"i=3,j=1,s\"))\n",
      "inds(T1_list[2, 2]) = ((dim=2|id=796|\"i=2,j=2,σ\"), (dim=2|id=779|\"i=2,j=2,s\"))\n"
     ]
    }
   ],
   "source": [
    "L = 1\n",
    "β = 1.0\n",
    "J = 1.0\n",
    "T_list, T1_list = CTMRG.contruct_with_boundary(L, β, J)\n",
    "@show inds(T1_list[1, 1])\n",
    "@show inds(T1_list[1, 2])\n",
    "@show inds(T1_list[2,1])\n",
    "@show inds(T1_list[2,2])\n",
    ";"
   ]
  },
  {
   "cell_type": "code",
   "execution_count": null,
   "id": "e46f4bdd",
   "metadata": {},
   "outputs": [
    {
     "data": {
      "text/plain": [
       "ITensor ord=2 (dim=2|id=796|\"i=2,j=2,σ\") (dim=2|id=779|\"i=2,j=2,s\")\n",
       "NDTensors.Dense{Float64, Vector{Float64}}"
      ]
     },
     "execution_count": 32,
     "metadata": {},
     "output_type": "execute_result"
    }
   ],
   "source": [
    "C_down_left = T1_list[1, 1]\n",
    "C_down_right = T1_list[2, 1]\n",
    "C_up_left = T1_list[1, 2]\n",
    "C_up_right = T1_list[2, 2]"
   ]
  },
  {
   "cell_type": "code",
   "execution_count": null,
   "id": "79bc3bbe",
   "metadata": {},
   "outputs": [],
   "source": [
    "#Pを定義する関数/Wを定義する関数"
   ]
  }
 ],
 "metadata": {
  "kernelspec": {
   "display_name": "Julia 1.11.5",
   "language": "julia",
   "name": "julia-1.11"
  },
  "language_info": {
   "file_extension": ".jl",
   "mimetype": "application/julia",
   "name": "julia",
   "version": "1.11.5"
  }
 },
 "nbformat": 4,
 "nbformat_minor": 5
}

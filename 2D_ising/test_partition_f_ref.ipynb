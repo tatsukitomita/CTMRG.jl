{
 "cells": [
  {
   "cell_type": "markdown",
   "id": "51db38cd",
   "metadata": {},
   "source": [
    "$$ 2次元イジング模型の分配関数を計算する"
   ]
  },
  {
   "cell_type": "code",
   "execution_count": 1,
   "id": "d59b64c0",
   "metadata": {},
   "outputs": [],
   "source": [
    "using Revise"
   ]
  },
  {
   "cell_type": "code",
   "execution_count": 3,
   "id": "a58e0b8a",
   "metadata": {},
   "outputs": [],
   "source": [
    "using Test"
   ]
  },
  {
   "cell_type": "code",
   "execution_count": 2,
   "id": "580d0eaf",
   "metadata": {},
   "outputs": [
    {
     "name": "stdout",
     "output_type": "stream",
     "text": [
      "Z = 30.09756552866905\n"
     ]
    }
   ],
   "source": [
    "function ising_partition_fixed(N::Int, β::Float64, J::Float64;\n",
    "                                left_spin::Int = 1, right_spin::Int = 1)\n",
    "    if N < 2\n",
    "        error(\"N must be ≥ 2\")\n",
    "    end\n",
    "\n",
    "    # スピン変数は ±1 で定義\n",
    "    function spin_value(j)\n",
    "        return 2*j - 1  # j = 1 ⇒ +1, j = 0 ⇒ -1\n",
    "    end\n",
    "\n",
    "    spins = [-1, +1]  # 中間スピンの取りうる値\n",
    "\n",
    "    # 再帰的に分配関数を計算（すべての中間スピンを列挙）\n",
    "    function recursive_Z(i::Int, current::Vector{Int})\n",
    "        if i == N - 1\n",
    "            config = [left_spin; current; right_spin]\n",
    "            E = 0.0\n",
    "            for j in 1:N-1\n",
    "                E -= J * config[j] * config[j+1]\n",
    "            end\n",
    "            return exp(-β * E)\n",
    "        else\n",
    "            total = 0.0\n",
    "            for s in spins\n",
    "                push!(current, s)\n",
    "                total += recursive_Z(i+1, current)\n",
    "                pop!(current)\n",
    "            end\n",
    "            return total\n",
    "        end\n",
    "    end\n",
    "\n",
    "    return recursive_Z(1, Int[])\n",
    "end\n",
    "\n",
    "# ✅ 使用例：\n",
    "N = 5\n",
    "β = 1.0\n",
    "J = 1.0\n",
    "j1 = 1  # left spin index (1 → +1)\n",
    "j2 = 0  # right spin index (0 → -1)\n",
    "\n",
    "s1 = 2*j1 - 1  # = +1\n",
    "s2 = 2*j2 - 1  # = -1\n",
    "\n",
    "Z = ising_partition_fixed(N, β, J; left_spin=s1, right_spin=s2)\n",
    "println(\"Z = $Z\")\n"
   ]
  }
 ],
 "metadata": {
  "kernelspec": {
   "display_name": "Julia 1.11.5",
   "language": "julia",
   "name": "julia-1.11"
  },
  "language_info": {
   "file_extension": ".jl",
   "mimetype": "application/julia",
   "name": "julia",
   "version": "1.11.5"
  }
 },
 "nbformat": 4,
 "nbformat_minor": 5
}

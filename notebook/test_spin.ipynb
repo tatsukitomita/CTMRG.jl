{
 "cells": [
  {
   "cell_type": "code",
   "execution_count": 1,
   "id": "294d2ec8",
   "metadata": {},
   "outputs": [],
   "source": [
    "using Revise"
   ]
  },
  {
   "cell_type": "code",
   "execution_count": 2,
   "id": "57998915",
   "metadata": {},
   "outputs": [],
   "source": [
    "using ITensors\n",
    "using Test"
   ]
  },
  {
   "cell_type": "code",
   "execution_count": 3,
   "id": "9ee4f74d",
   "metadata": {},
   "outputs": [
    {
     "data": {
      "text/plain": [
       "spin_tensor (generic function with 1 method)"
      ]
     },
     "execution_count": 3,
     "metadata": {},
     "output_type": "execute_result"
    }
   ],
   "source": [
    "function spin_tensor(ind1::Index, ind2::Index)\n",
    "    S = ITensor(ind1, ind2)\n",
    "    S[ind1[1], ind2[1]] = 1.0\n",
    "    S[ind1[2], ind2[2]] = -1.0\n",
    "    return S\n",
    "end"
   ]
  },
  {
   "cell_type": "code",
   "execution_count": 5,
   "id": "f29db480",
   "metadata": {},
   "outputs": [
    {
     "name": "stdout",
     "output_type": "stream",
     "text": [
      "\u001b[0m\u001b[1mTest Summary:   | \u001b[22m\u001b[32m\u001b[1mPass  \u001b[22m\u001b[39m\u001b[36m\u001b[1mTotal  \u001b[22m\u001b[39m\u001b[0m\u001b[1mTime\u001b[22m\n",
      "spin_tensorのテスト | \u001b[32m   4  \u001b[39m\u001b[36m    4  \u001b[39m\u001b[0m0.0s\n"
     ]
    },
    {
     "data": {
      "text/plain": [
       "Test.DefaultTestSet(\"spin_tensorのテスト\", Any[], 4, false, false, true, 1.754235662929069e9, 1.754235662929164e9, false, \"In[5]\")"
      ]
     },
     "execution_count": 5,
     "metadata": {},
     "output_type": "execute_result"
    }
   ],
   "source": [
    "@testset \"spin_tensorのテスト\" begin\n",
    "    ind1 = Index(2, \"s1\")\n",
    "    ind2 = Index(2, \"s2\")\n",
    "    S = spin_tensor(ind1, ind2)\n",
    "\n",
    "    @test S[ind1[1], ind2[1]] == 1.0\n",
    "    @test S[ind1[2], ind2[2]] == -1.0\n",
    "    @test S[ind1[1], ind2[2]] == 0.0\n",
    "    @test S[ind1[2], ind2[1]] == 0.0\n",
    "end"
   ]
  }
 ],
 "metadata": {
  "kernelspec": {
   "display_name": "Julia 1.11.5",
   "language": "julia",
   "name": "julia-1.11"
  },
  "language_info": {
   "file_extension": ".jl",
   "mimetype": "application/julia",
   "name": "julia",
   "version": "1.11.5"
  }
 },
 "nbformat": 4,
 "nbformat_minor": 5
}

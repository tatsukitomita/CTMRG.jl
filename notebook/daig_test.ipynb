{
 "cells": [
  {
   "cell_type": "markdown",
   "id": "3754ea72",
   "metadata": {},
   "source": [
    "$$ 没"
   ]
  },
  {
   "cell_type": "code",
   "execution_count": 1,
   "id": "012618b1",
   "metadata": {},
   "outputs": [],
   "source": [
    "using Revise\n",
    "using Test"
   ]
  },
  {
   "cell_type": "code",
   "execution_count": 2,
   "id": "e93b151c",
   "metadata": {},
   "outputs": [],
   "source": [
    "using LinearAlgebra\n",
    "using ITensors\n",
    "import CTMRG"
   ]
  },
  {
   "cell_type": "markdown",
   "id": "da0492ed",
   "metadata": {},
   "source": [
    "$$一般の行列の対角化"
   ]
  },
  {
   "cell_type": "code",
   "execution_count": 3,
   "id": "45783f7e",
   "metadata": {},
   "outputs": [
    {
     "data": {
      "text/plain": [
       "(dim=2|id=81|\"old=2\")"
      ]
     },
     "execution_count": 3,
     "metadata": {},
     "output_type": "execute_result"
    }
   ],
   "source": [
    "new_1 = Index(2, \"new = 1\")\n",
    "new_2 = Index(2, \"new = 2\")\n",
    "old_1 = Index(2, \"old = 1\")\n",
    "old_2 = Index(2, \"old = 2\")"
   ]
  },
  {
   "cell_type": "code",
   "execution_count": 4,
   "id": "f6f1806d",
   "metadata": {},
   "outputs": [
    {
     "name": "stdout",
     "output_type": "stream",
     "text": [
      "(evals, evecs) = eigen(C_) = Eigen{Float64, Float64, Matrix{Float64}, Vector{Float64}}([1.0, 3.0], [-0.7071067811865475 0.7071067811865475; 0.7071067811865475 0.7071067811865475])\n",
      "ievecs = inv(evecs) = [-0.7071067811865476 0.7071067811865476; 0.7071067811865476 0.7071067811865476]\n",
      "evecs[1, 1] = -0.7071067811865475\n"
     ]
    }
   ],
   "source": [
    "C = ITensor(old_1, old_2)\n",
    "C[old_1=>1, old_2=>1] = 2.0\n",
    "C[old_1=>2, old_2=>1] = 1.0\n",
    "C[old_1=>1, old_2=>2] = 1.0 \n",
    "C[old_1=>2, old_2=>2] = 2.0\n",
    "C_ = array(permute(C, (old_1, old_2)))\n",
    "#array(permute(C, (old_2, old_1)))\n",
    "@show evals, evecs = eigen(C_)\n",
    "@show ievecs = inv(evecs)\n",
    "evecs * ievecs\n",
    "@show evecs[1,1]\n",
    ";"
   ]
  },
  {
   "cell_type": "code",
   "execution_count": 88,
   "id": "8e58f679",
   "metadata": {},
   "outputs": [
    {
     "data": {
      "text/plain": [
       "3.0"
      ]
     },
     "execution_count": 88,
     "metadata": {},
     "output_type": "execute_result"
    }
   ],
   "source": [
    "#固有値を移す\n",
    "T = ITensor(new_1, new_2)\n",
    "A = ITensor(old_1, new_1)\n",
    "iA = ITensor(old_2, new_2)\n",
    "for i in 1:2\n",
    "    T[new_1=>i, new_2=>i] = evals[i]\n",
    "end\n",
    "T[new_1=>1, new_2=>1] = evals[1]\n",
    "T[new_1=>2, new_2=>2] = evals[2]"
   ]
  },
  {
   "cell_type": "code",
   "execution_count": 94,
   "id": "27708d09",
   "metadata": {},
   "outputs": [],
   "source": [
    "for i in 1:2, j in 1:2\n",
    "    A[old_1=>i,new_1 =>j] = evecs[i, j]\n",
    "    iA[old_2=>i, new_2=> j] = ievecs[i, j]\n",
    "end"
   ]
  },
  {
   "cell_type": "code",
   "execution_count": 190,
   "id": "a02d780f",
   "metadata": {},
   "outputs": [
    {
     "data": {
      "text/plain": [
       "make_diag_Tesnor (generic function with 4 methods)"
      ]
     },
     "execution_count": 190,
     "metadata": {},
     "output_type": "execute_result"
    }
   ],
   "source": [
    "#=\n",
    "function make_diag_Tesnor(eigenvalues::Vector{Float64}, \n",
    "    eigenvec::Matrix{Float64}, ieigenvec::Matrix{Float64},\n",
    "    L::Int)\n",
    "    dim = length(eigenvalues)\n",
    "    new1_ind = Index(dim, \"eig_1\")\n",
    "    new2_ind = Index(dim, \"eig_2\")\n",
    "    #固有値を移す\n",
    "    Λ = ITensor(new1_ind, new2_ind)\n",
    "    for i in 1:dim\n",
    "        Λ[new1_ind => i, new2_ind => i] = eigenvalues[i]\n",
    "    end\n",
    "    #固有ベクトルを移す\n",
    "    #A = ITensor(new1_ind, old1_ind_list...)\n",
    "    #iA = ITensor(old2_ind_list..., new2_ind)\n",
    "    for i in 1:dim, j in 1:dim\n",
    "        A[old_1 => i,new1_ind => j] = evecs[i, j]\n",
    "        iA[old_2 => i, new2_ind => j] = ievecs[i, j]\n",
    "    end\n",
    "    return Λ, A, iA\n",
    "end\n",
    "=#\n",
    "function make_diag_Tesnor(eigenvalues::Vector{Float64}, \n",
    "    evecs::Matrix{Float64}, ievec::Matrix{Float64})\n",
    "    dim = length(eigenvalues)\n",
    "    old1_ind_temp = Index(dim, \"old_1\")\n",
    "    old2_ind_temp = Index(dim, \"old_2\")\n",
    "    new1_ind = Index(dim, \"eig_1\")\n",
    "    new2_ind = Index(dim, \"eig_2\")\n",
    "    #固有値を移す\n",
    "    Λ = ITensor(new1_ind, new2_ind)\n",
    "    for i in 1:dim\n",
    "        Λ[new1_ind => i, new2_ind => i] = eigenvalues[i]\n",
    "    end\n",
    "    #固有ベクトルを移す\n",
    "    A = ITensor(new1_ind, old1_ind_temp)\n",
    "    iA = ITensor(old2_ind_temp, new2_ind)\n",
    "    for i in 1:dim, j in 1:dim\n",
    "        A[new1_ind => i, old1_ind_temp => j] = evecs[i, j]\n",
    "        iA[old2_ind_temp => i, new2_ind => j] = ievecs[i, j]\n",
    "    end\n",
    "    return Λ, A, iA\n",
    "end\n",
    "    \n"
   ]
  },
  {
   "cell_type": "code",
   "execution_count": 191,
   "id": "73ce9d27",
   "metadata": {},
   "outputs": [],
   "source": [
    "new_1 = Index(2, \"new = 1\")\n",
    "new_2 = Index(2, \"new = 2\")\n",
    "new1_list =[new_1]\n",
    "new2_list = [new_2]\n",
    "C = [2.0 1.0; 1.0 2.0]\n",
    "evals, evecs = eigen(C)\n",
    "ievecs = inv(evecs)\n",
    "Λ, A, iA = make_diag_Tesnor(evals, evecs, ievecs)\n",
    ";"
   ]
  },
  {
   "cell_type": "code",
   "execution_count": 192,
   "id": "b22e5b7a",
   "metadata": {},
   "outputs": [
    {
     "name": "stdout",
     "output_type": "stream",
     "text": [
      "(inds(A))[1] = (dim=2|id=418|\"eig_1\")\n",
      "(inds(A))[2] = (dim=2|id=448|\"old_1\")\n",
      "(inds(iA))[1] = (dim=2|id=513|\"old_2\")\n",
      "(inds(iA))[2] = (dim=2|id=620|\"eig_2\")\n",
      "(inds(_A))[1] = (dim=2|id=418|\"eig_1\")\n",
      "(inds(_A))[2] = (dim=2|id=513|\"old_2\")\n",
      "_A * iA = ITensor ord=2\n",
      "Dim 1: (dim=2|id=418|\"eig_1\")\n",
      "Dim 2: (dim=2|id=620|\"eig_2\")\n",
      "NDTensors.Dense{Float64, Vector{Float64}}\n",
      " 2×2\n",
      " 1.0  0.0\n",
      " 0.0  1.0\n"
     ]
    }
   ],
   "source": [
    "@show inds(A)[1]\n",
    "@show inds(A)[2]\n",
    "@show inds(iA)[1]\n",
    "@show inds(iA)[2]\n",
    "#規格化のチェック\n",
    "_A = replaceinds(A, (inds(A)[1], inds(A)[2]) => (inds(A)[1], inds(iA)[1]))\n",
    "@show inds(_A)[1]\n",
    "@show inds(_A)[2]\n",
    "@show  _A * iA \n",
    ";"
   ]
  },
  {
   "cell_type": "code",
   "execution_count": null,
   "id": "28a68fc0",
   "metadata": {},
   "outputs": [
    {
     "name": "stdout",
     "output_type": "stream",
     "text": [
      "\u001b[0m\u001b[1mTest Summary:        | \u001b[22m\u001b[36m\u001b[1mTotal  \u001b[22m\u001b[39m\u001b[0m\u001b[1mTime\u001b[22m\n",
      "make_diag_Tensorのテスト | \u001b[36m    0  \u001b[39m\u001b[0m0.0s\n"
     ]
    },
    {
     "data": {
      "text/plain": [
       "Test.DefaultTestSet(\"make_diag_Tensorのテスト\", Any[], 0, false, false, true, 1.753432781294533e9, 1.753432781294639e9, false, \"In[194]\")"
      ]
     },
     "execution_count": 194,
     "metadata": {},
     "output_type": "execute_result"
    }
   ],
   "source": [
    "@testset \"make_diag_Tensorのテスト\" begin\n",
    "    new_1 = Index(2, \"new = 1\")\n",
    "    new_2 = Index(2, \"new = 2\")\n",
    "    new1_list =[new_1]\n",
    "    new2_list = [new_2]\n",
    "    C = [2.0 1.0; 1.0 2.0]\n",
    "    evals, evecs = eigen(C)\n",
    "    ievecs = inv(evecs)\n",
    "    Λ, A, iA = make_diag_Tesnor(evals, evecs, ievecs)\n",
    "    @test \n",
    "end"
   ]
  },
  {
   "cell_type": "code",
   "execution_count": 156,
   "id": "1961b370",
   "metadata": {},
   "outputs": [
    {
     "name": "stdout",
     "output_type": "stream",
     "text": [
      "A = ITensor ord=2\n",
      "Dim 1: (dim=2|id=990|\"eig_1\")\n",
      "Dim 2: (dim=2|id=828|\"old_1\")\n",
      "NDTensors.Dense{Float64, Vector{Float64}}\n",
      " 2×2\n",
      " -0.7071067811865475  0.7071067811865475\n",
      "  0.7071067811865475  0.7071067811865475\n",
      "iA = ITensor ord=2\n",
      "Dim 1: (dim=2|id=922|\"old_2\")\n",
      "Dim 2: (dim=2|id=292|\"eig_2\")\n",
      "NDTensors.Dense{Float64, Vector{Float64}}\n",
      " 2×2\n",
      " -0.7071067811865476  0.7071067811865476\n",
      "  0.7071067811865476  0.7071067811865476\n"
     ]
    }
   ],
   "source": [
    "@show A\n",
    "@show iA\n",
    ";"
   ]
  },
  {
   "cell_type": "code",
   "execution_count": 150,
   "id": "82001195",
   "metadata": {},
   "outputs": [],
   "source": [
    "new_1 = Index(2, \"new = 1\")\n",
    "new_2 = Index(2, \"new = 2\")\n",
    "new1_list = [new_1]\n",
    "new2_list = [new_2]\n",
    "C = [2.0 1.0; 1.0 2.0]\n",
    "evals, evecs = eigen(C)\n",
    "ievecs = inv(evecs)\n",
    "Λ, A, iA = make_diag_Tesnor(evals, evecs, ievecs)\n",
    "inds(A)[1]\n",
    "inds(A)[2]\n",
    "A_ = replaceinds(A, (inds(A)[1], inds(A)[2]) => (inds(A)[1], new1_list..., ))\n",
    "inds(A_)[1]\n",
    "inds(A_)[2]\n",
    "A*iA\n",
    ";"
   ]
  },
  {
   "cell_type": "code",
   "execution_count": 203,
   "id": "f0cefc6f",
   "metadata": {},
   "outputs": [
    {
     "data": {
      "text/plain": [
       "ITensor ord=2 (dim=4|id=197|\"new=1\") (dim=2|id=157|\"new=2\")\n",
       "NDTensors.Dense{Float64, Vector{Float64}}"
      ]
     },
     "execution_count": 203,
     "metadata": {},
     "output_type": "execute_result"
    }
   ],
   "source": [
    "T = randomITensor(ind1, ind2)"
   ]
  },
  {
   "cell_type": "code",
   "execution_count": 201,
   "id": "82757bc8",
   "metadata": {},
   "outputs": [
    {
     "name": "stdout",
     "output_type": "stream",
     "text": [
      "indlist = (ind2, ind3) = ((dim=2|id=157|\"new=2\"), (dim=2|id=724|\"new=3\"))\n",
      "diagITensor([1.0, 1.0], ind1, indlist) = ITensor ord=3\n",
      "Dim 1: (dim=4|id=197|\"new=1\")\n",
      "Dim 2: (dim=2|id=157|\"new=2\")\n",
      "Dim 3: (dim=2|id=724|\"new=3\")\n",
      "NDTensors.Diag{Float64, Vector{Float64}}\n",
      " 4×2×2\n",
      "[:, :, 1] =\n",
      " 1.0  0.0\n",
      " 0.0  0.0\n",
      " 0.0  0.0\n",
      " 0.0  0.0\n",
      "\n",
      "[:, :, 2] =\n",
      " 0.0  0.0\n",
      " 0.0  1.0\n",
      " 0.0  0.0\n",
      " 0.0  0.0\n"
     ]
    }
   ],
   "source": [
    "ind1 = Index(4, \"new = 1\")\n",
    "ind2 = Index(2, \"new = 2\")\n",
    "ind3 = Index(2, \"new = 3\")\n",
    "@show indlist = (ind2, ind3)\n",
    "@show diagITensor([1.0, 1.0], ind1, indlist)\n",
    ";"
   ]
  },
  {
   "cell_type": "code",
   "execution_count": null,
   "id": "62e3f17b",
   "metadata": {},
   "outputs": [
    {
     "ename": "LoadError",
     "evalue": "DimensionMismatch: arrays could not be broadcast to a common size: a has axes Base.OneTo(2) and b has axes Base.OneTo(3)",
     "output_type": "error",
     "traceback": [
      "DimensionMismatch: arrays could not be broadcast to a common size: a has axes Base.OneTo(2) and b has axes Base.OneTo(3)",
      "",
      "Stacktrace:",
      "  [1] \u001b[0m\u001b[1m_bcs1\u001b[22m",
      "\u001b[90m    @\u001b[39m \u001b[90m./\u001b[39m\u001b[90m\u001b[4mbroadcast.jl:528\u001b[24m\u001b[39m\u001b[90m [inlined]\u001b[39m",
      "  [2] \u001b[0m\u001b[1m_bcs\u001b[22m",
      "\u001b[90m    @\u001b[39m \u001b[90m./\u001b[39m\u001b[90m\u001b[4mbroadcast.jl:522\u001b[24m\u001b[39m\u001b[90m [inlined]\u001b[39m",
      "  [3] \u001b[0m\u001b[1mbroadcast_shape\u001b[22m\u001b[0m\u001b[1m(\u001b[22m::\u001b[0mTuple\u001b[90m{Base.OneTo{Int64}}\u001b[39m, ::\u001b[0mTuple\u001b[90m{Base.OneTo{Int64}}\u001b[39m\u001b[0m\u001b[1m)\u001b[22m",
      "\u001b[90m    @\u001b[39m \u001b[90mBase.Broadcast\u001b[39m \u001b[90m./\u001b[39m\u001b[90m\u001b[4mbroadcast.jl:516\u001b[24m\u001b[39m",
      "  [4] \u001b[0m\u001b[1mcombine_axes\u001b[22m",
      "\u001b[90m    @\u001b[39m \u001b[90m./\u001b[39m\u001b[90m\u001b[4mbroadcast.jl:497\u001b[24m\u001b[39m\u001b[90m [inlined]\u001b[39m",
      "  [5] \u001b[0m\u001b[1m_axes\u001b[22m",
      "\u001b[90m    @\u001b[39m \u001b[90m./\u001b[39m\u001b[90m\u001b[4mbroadcast.jl:236\u001b[24m\u001b[39m\u001b[90m [inlined]\u001b[39m",
      "  [6] \u001b[0m\u001b[1maxes\u001b[22m",
      "\u001b[90m    @\u001b[39m \u001b[90m./\u001b[39m\u001b[90m\u001b[4mbroadcast.jl:234\u001b[24m\u001b[39m\u001b[90m [inlined]\u001b[39m",
      "  [7] \u001b[0m\u001b[1mcopy\u001b[22m",
      "\u001b[90m    @\u001b[39m \u001b[90m./\u001b[39m\u001b[90m\u001b[4mbroadcast.jl:1099\u001b[24m\u001b[39m\u001b[90m [inlined]\u001b[39m",
      "  [8] \u001b[0m\u001b[1mmaterialize\u001b[22m",
      "\u001b[90m    @\u001b[39m \u001b[90m./\u001b[39m\u001b[90m\u001b[4mbroadcast.jl:872\u001b[24m\u001b[39m\u001b[90m [inlined]\u001b[39m",
      "  [9] \u001b[0m\u001b[1mreplaceinds\u001b[22m\u001b[0m\u001b[1m(\u001b[22m\u001b[90mis\u001b[39m::\u001b[0mTuple\u001b[90m{Index{Int64}, Index{Int64}}\u001b[39m, \u001b[90mrep_inds\u001b[39m::\u001b[0mPair\u001b[90m{Tuple{Index{Int64}, Index{Int64}}, Tuple{Index{Int64}, Index{Int64}, Index{Int64}}}\u001b[39m\u001b[0m\u001b[1m)\u001b[22m",
      "\u001b[90m    @\u001b[39m \u001b[35mITensors\u001b[39m \u001b[90m~/.julia/packages/ITensors/elsyT/src/\u001b[39m\u001b[90m\u001b[4mindexset.jl:568\u001b[24m\u001b[39m",
      " [10] \u001b[0m\u001b[1mreplaceinds\u001b[22m\u001b[0m\u001b[1m(\u001b[22m\u001b[90mA\u001b[39m::\u001b[0mNDTensors.EmptyTensor\u001b[90m{NDTensors.EmptyNumber, 2, Tuple{Index{Int64}, Index{Int64}}, NDTensors.EmptyStorage{NDTensors.EmptyNumber, NDTensors.Dense{NDTensors.EmptyNumber, Vector{NDTensors.EmptyNumber}}}}\u001b[39m, \u001b[90margs\u001b[39m::\u001b[0mPair\u001b[90m{Tuple{Index{Int64}, Index{Int64}}, Tuple{Index{Int64}, Index{Int64}, Index{Int64}}}\u001b[39m; \u001b[90mkwargs\u001b[39m::\u001b[0m@Kwargs\u001b[90m{}\u001b[39m\u001b[0m\u001b[1m)\u001b[22m",
      "\u001b[90m    @\u001b[39m \u001b[35mITensors\u001b[39m \u001b[90m~/.julia/packages/ITensors/elsyT/src/\u001b[39m\u001b[90m\u001b[4mitensor.jl:1511\u001b[24m\u001b[39m",
      " [11] \u001b[0m\u001b[1mreplaceinds\u001b[22m\u001b[0m\u001b[1m(\u001b[22m\u001b[90mA\u001b[39m::\u001b[0mNDTensors.EmptyTensor\u001b[90m{NDTensors.EmptyNumber, 2, Tuple{Index{Int64}, Index{Int64}}, NDTensors.EmptyStorage{NDTensors.EmptyNumber, NDTensors.Dense{NDTensors.EmptyNumber, Vector{NDTensors.EmptyNumber}}}}\u001b[39m, \u001b[90margs\u001b[39m::\u001b[0mPair\u001b[90m{Tuple{Index{Int64}, Index{Int64}}, Tuple{Index{Int64}, Index{Int64}, Index{Int64}}}\u001b[39m\u001b[0m\u001b[1m)\u001b[22m",
      "\u001b[90m    @\u001b[39m \u001b[35mITensors\u001b[39m \u001b[90m~/.julia/packages/ITensors/elsyT/src/\u001b[39m\u001b[90m\u001b[4mitensor.jl:1510\u001b[24m\u001b[39m",
      " [12] \u001b[0m\u001b[1mreplaceinds\u001b[22m\u001b[0m\u001b[1m(\u001b[22m\u001b[90mA\u001b[39m::\u001b[0mITensor, \u001b[90margs\u001b[39m::\u001b[0mPair\u001b[90m{Tuple{Index{Int64}, Index{Int64}}, Tuple{Index{Int64}, Index{Int64}, Index{Int64}}}\u001b[39m; \u001b[90mkwargs\u001b[39m::\u001b[0m@Kwargs\u001b[90m{}\u001b[39m\u001b[0m\u001b[1m)\u001b[22m",
      "\u001b[90m    @\u001b[39m \u001b[35mITensors\u001b[39m \u001b[90m~/.julia/packages/ITensors/elsyT/src/\u001b[39m\u001b[90m\u001b[4mitensor.jl:1507\u001b[24m\u001b[39m",
      " [13] top-level scope",
      "\u001b[90m    @\u001b[39m \u001b[90m\u001b[4mIn[138]:9\u001b[24m\u001b[39m"
     ]
    }
   ],
   "source": [
    "#tagの張り替えの練習\n",
    "new_1 = Index(4, \"new = 1\")\n",
    "new_2 = Index(2, \"new = 2\")\n",
    "new_3 = Index(2, \"new = 3\")\n",
    "new_4 = Index(2, \"new = 4\")\n",
    "old_inds = (new_1, new_2)\n",
    "new_inds = (new_3, new_4, new_2)  \n",
    "T = ITensor(new_1, new_2)\n",
    "T_ = replaceinds(T, old_inds => new_inds)"
   ]
  },
  {
   "cell_type": "code",
   "execution_count": null,
   "id": "e87f5979",
   "metadata": {},
   "outputs": [],
   "source": [
    "new_1 = Index(2, \"new = 1\")\n",
    "new_2 = Index(2, \"new = 2\")\n",
    "new_3 = Index(2, \"new = 3\")\n",
    "new_4 = Index(2, \"new = 4\")\n",
    "new1_list = [new_1, new_2]\n",
    "new2_list = [new_3, new_4]\n",
    "C = [2.0 1.0 2; 1.0 2.0]\n",
    "evals, evecs = eigen(C)\n",
    "ievecs = inv(evecs)\n",
    "Λ, A, iA = make_diag_Tesnor(evals, evecs, ievecs)\n",
    "@show inds(A)[1]\n",
    "@show inds(A)[2]\n",
    "A_ = replaceinds(A, (inds(A)[1], inds(A)[2]) => (inds(A)[1], new1_list..., ))\n",
    "@show inds(A_)[1]\n",
    "@show inds(A_)[2]\n",
    ";"
   ]
  },
  {
   "cell_type": "code",
   "execution_count": null,
   "id": "449f4d67",
   "metadata": {},
   "outputs": [],
   "source": [
    "@testset \"make_diag_Tensorのテスト\" begin\n",
    "    new_1 = Index(2, \"new = 1\")\n",
    "    new_2 = Index(2, \"new = 2\")\n",
    "    new1_list =[new_1]\n",
    "    new2_list = [new_2]\n",
    "    C = [2.0 1.0; 1.0 2.0]\n",
    "    evals, evecs = eigen(C)\n",
    "    ievecs = inv(evecs)\n",
    "    Λ, A, iA = make_diag_Tesnor(evals, evecs, ievecs, new1_list, new2_list)\n",
    "end"
   ]
  },
  {
   "cell_type": "code",
   "execution_count": 96,
   "id": "104c02dd",
   "metadata": {},
   "outputs": [
    {
     "name": "stdout",
     "output_type": "stream",
     "text": [
      "iA * T * A = ITensor ord=2\n",
      "Dim 1: (dim=2|id=110|\"old=2\")\n",
      "Dim 2: (dim=2|id=212|\"old=1\")\n",
      "NDTensors.Dense{Float64, Vector{Float64}}\n",
      " 2×2\n",
      " 2.0  1.0\n",
      " 1.0  2.0\n"
     ]
    },
    {
     "data": {
      "text/plain": [
       "ITensor ord=2 (dim=2|id=110|\"old=2\") (dim=2|id=212|\"old=1\")\n",
       "NDTensors.Dense{Float64, Vector{Float64}}"
      ]
     },
     "execution_count": 96,
     "metadata": {},
     "output_type": "execute_result"
    }
   ],
   "source": [
    "@show iA * T * A"
   ]
  },
  {
   "cell_type": "code",
   "execution_count": 99,
   "id": "2afeab77",
   "metadata": {},
   "outputs": [
    {
     "data": {
      "text/plain": [
       "2×2 Matrix{Float64}:\n",
       " 2.0  1.0\n",
       " 1.0  2.0"
      ]
     },
     "execution_count": 99,
     "metadata": {},
     "output_type": "execute_result"
    }
   ],
   "source": [
    "C = [2.0 1.0; 1.0 2.0]"
   ]
  },
  {
   "cell_type": "code",
   "execution_count": null,
   "id": "62e23d80",
   "metadata": {},
   "outputs": [],
   "source": [
    "function diag(C::ITensor,)"
   ]
  },
  {
   "cell_type": "markdown",
   "id": "abd30c25",
   "metadata": {},
   "source": [
    "$$ 角転送行列の対角化"
   ]
  },
  {
   "cell_type": "code",
   "execution_count": null,
   "id": "be946833",
   "metadata": {},
   "outputs": [
    {
     "data": {
      "text/plain": [
       "1.0"
      ]
     },
     "execution_count": 15,
     "metadata": {},
     "output_type": "execute_result"
    }
   ],
   "source": [
    "β = 1.0\n",
    "J = 1.0"
   ]
  },
  {
   "cell_type": "code",
   "execution_count": null,
   "id": "b93c21a6",
   "metadata": {},
   "outputs": [
    {
     "name": "stdout",
     "output_type": "stream",
     "text": [
      "σ = CTMRG.make_2D_index_σtags(1) = Index[(dim=2|id=629|\"i=1,j=1,σ\") (dim=2|id=317|\"i=2,j=1,σ\"); (dim=2|id=267|\"i=1,j=2,σ\") (dim=2|id=337|\"i=2,j=2,σ\"); (dim=2|id=716|\"i=1,j=3,σ\") (dim=2|id=855|\"i=2,j=3,σ\")]\n",
      "s = CTMRG.make_2D_index_stags(1) = Index[(dim=2|id=662|\"i=1,j=1,s\") (dim=2|id=810|\"i=2,j=1,s\") (dim=2|id=557|\"i=3,j=1,s\"); (dim=2|id=537|\"i=1,j=2,s\") (dim=2|id=164|\"i=2,j=2,s\") (dim=2|id=378|\"i=3,j=2,s\")]\n"
     ]
    }
   ],
   "source": [
    "#内部テンソルと境界条件を作る。\n",
    "@show σ = CTMRG.make_2D_index_σtags(1)\n",
    "@show s = CTMRG.make_2D_index_stags(1)\n",
    "T_list = CTMRG.make_inner_tensors(1, β, J, s, σ)\n",
    ";"
   ]
  },
  {
   "cell_type": "code",
   "execution_count": null,
   "id": "21415569",
   "metadata": {},
   "outputs": [
    {
     "data": {
      "text/plain": [
       "setup_tensors_2D_initial (generic function with 1 method)"
      ]
     },
     "execution_count": 17,
     "metadata": {},
     "output_type": "execute_result"
    }
   ],
   "source": [
    "#初期化テンソルを作る関数\n",
    "N = 4\n",
    "T_list = Array{ITensor}(undef, N, N)\n",
    "\n",
    "for i in 1:N, j in 1:N\n",
    "    T_list[i, j] = ITensor(true)\n",
    "end\n",
    "function setup_tensors_2D_initial(L)\n",
    "    T_list = Array{ITensor}(undef, 2*L, 2*L)\n",
    "    for i in 1:2*L, j in 1:2*L\n",
    "        T_list[i, j] = ITensor(true)\n",
    "    end\n",
    "    return T_list\n",
    "end"
   ]
  },
  {
   "cell_type": "code",
   "execution_count": null,
   "id": "d8a55308",
   "metadata": {},
   "outputs": [
    {
     "name": "stdout",
     "output_type": "stream",
     "text": [
      "\u001b[0m\u001b[1mTest Summary:            | \u001b[22m\u001b[32m\u001b[1mPass  \u001b[22m\u001b[39m\u001b[36m\u001b[1mTotal  \u001b[22m\u001b[39m\u001b[0m\u001b[1mTime\u001b[22m\n",
      "setup_tensors_2D_initial | \u001b[32m   2  \u001b[39m\u001b[36m    2  \u001b[39m\u001b[0m0.0s\n"
     ]
    },
    {
     "data": {
      "text/plain": [
       "Test.DefaultTestSet(\"setup_tensors_2D_initial\", Any[], 2, false, false, true, 1.753417900583083e9, 1.753417900606943e9, false, \"In[23]\")"
      ]
     },
     "execution_count": 23,
     "metadata": {},
     "output_type": "execute_result"
    }
   ],
   "source": [
    " @testset \"setup_tensors_2D_initial\" begin\n",
    "    L = 10\n",
    "    T_list = setup_tensors_2D_initial(L)\n",
    "    @test length(T_list) == 2*L * 2*L\n",
    "    @test all(ITensor(true) == T_list[i, j] for i in 1:2*L, j in 1:2*L)\n",
    "end"
   ]
  },
  {
   "cell_type": "code",
   "execution_count": null,
   "id": "8e947558",
   "metadata": {},
   "outputs": [],
   "source": []
  },
  {
   "cell_type": "code",
   "execution_count": null,
   "id": "60dde5cc",
   "metadata": {},
   "outputs": [],
   "source": [
    "#境界条件との縮約をとった形をあらわす。\n",
    "L = 5\n",
    "T1_list = setup_tensors_2D_initial(L)\n",
    "T_list, Dup_list, Ddown_list, L_list, R_list = CTMRG.setup_tensors_2D(L, β, J)\n",
    ";"
   ]
  },
  {
   "cell_type": "code",
   "execution_count": null,
   "id": "79e39560",
   "metadata": {},
   "outputs": [
    {
     "data": {
      "text/plain": [
       "0"
      ]
     },
     "execution_count": 7,
     "metadata": {},
     "output_type": "execute_result"
    }
   ],
   "source": [
    "T1_list[1, 2]\n",
    "order(T1_list[1, 2]) "
   ]
  },
  {
   "cell_type": "code",
   "execution_count": null,
   "id": "61f1794d",
   "metadata": {},
   "outputs": [],
   "source": [
    "#境界条件との縮約をとった関数を定義する関数。\n",
    "function \n",
    "for (i, Ddown) in enumerate(Ddown_list)\n",
    "    T1_list[i,1] = T_list[i,1] * Ddown\n",
    "end\n",
    "for (i, L) in enumerate(L_list)\n",
    "    ord = order(T1_list[1,i])\n",
    "    if ord == 0\n",
    "        T1_list[1,i] = T_list[1,i] * L\n",
    "    else\n",
    "        T1_list[1,i] = T1_list[1,i] * L\n",
    "    end\n",
    "end\n",
    "for (i, Dup) in enumerate(Dup_list)\n",
    "    ord = order(T1_list[i,2*L])\n",
    "    if ord == 0\n",
    "        T1_list[i,2*L] = T_list[i,2*L] * Dup\n",
    "    else\n",
    "        T1_list[i,2*L] = T1_list[i,2*L] * Dup\n",
    "    end\n",
    "end\n",
    "for (i, R) in enumerate(R_list)\n",
    "    ord = order(T1_list[2*L,i])\n",
    "    if ord == 0\n",
    "        T1_list[2*L,i] = T_list[2*L,i] * R\n",
    "    else\n",
    "        T1_list[2*L,i] = T1_list[2*L,i] * R\n",
    "    end\n",
    "end"
   ]
  },
  {
   "cell_type": "code",
   "execution_count": null,
   "id": "1c57a3bb",
   "metadata": {},
   "outputs": [
    {
     "data": {
      "text/plain": [
       "ITensor ord=2 (dim=2|id=425|\"i=1,j=2,σ\") (dim=2|id=117|\"i=2,j=1,s\")\n",
       "NDTensors.Dense{Float64, Vector{Float64}}"
      ]
     },
     "execution_count": 9,
     "metadata": {},
     "output_type": "execute_result"
    }
   ],
   "source": [
    "T1_list[1,1]"
   ]
  },
  {
   "cell_type": "code",
   "execution_count": null,
   "id": "9b104afd",
   "metadata": {},
   "outputs": [
    {
     "data": {
      "text/plain": [
       "(dim=2|id=146|\"i=2,j=2,σ\")"
      ]
     },
     "execution_count": 10,
     "metadata": {},
     "output_type": "execute_result"
    }
   ],
   "source": [
    "T = T1_list[2,1]\n",
    "(i1, i2) = inds(T)\n",
    "i1"
   ]
  },
  {
   "cell_type": "code",
   "execution_count": null,
   "id": "b26ffd50",
   "metadata": {},
   "outputs": [
    {
     "ename": "LoadError",
     "evalue": "In `permute(::ITensor, inds...)`, the input ITensor has indices: \n\n((dim=2|id=146|\"i=2,j=2,σ\"), (dim=2|id=117|\"i=2,j=1,s\"), (dim=2|id=236|\"i=3,j=1,s\"))\n\nbut the desired Index ordering is: \n\n((dim=2|id=146|\"i=2,j=2,σ\"), (dim=2|id=117|\"i=2,j=1,s\"))",
     "output_type": "error",
     "traceback": [
      "In `permute(::ITensor, inds...)`, the input ITensor has indices: \n\n((dim=2|id=146|\"i=2,j=2,σ\"), (dim=2|id=117|\"i=2,j=1,s\"), (dim=2|id=236|\"i=3,j=1,s\"))\n\nbut the desired Index ordering is: \n\n((dim=2|id=146|\"i=2,j=2,σ\"), (dim=2|id=117|\"i=2,j=1,s\"))",
      "",
      "Stacktrace:",
      " [1] \u001b[0m\u001b[1merror\u001b[22m\u001b[0m\u001b[1m(\u001b[22m\u001b[90ms\u001b[39m::\u001b[0mString\u001b[0m\u001b[1m)\u001b[22m",
      "\u001b[90m   @\u001b[39m \u001b[90mBase\u001b[39m \u001b[90m./\u001b[39m\u001b[90m\u001b[4merror.jl:35\u001b[24m\u001b[39m",
      " [2] \u001b[0m\u001b[1m#permute#254\u001b[22m",
      "\u001b[90m   @\u001b[39m \u001b[90m~/.julia/packages/ITensors/elsyT/src/tensor_operations/\u001b[39m\u001b[90m\u001b[4mpermutations.jl:40\u001b[24m\u001b[39m\u001b[90m [inlined]\u001b[39m",
      " [3] \u001b[0m\u001b[1mpermute\u001b[22m\u001b[0m\u001b[1m(\u001b[22m\u001b[90mT\u001b[39m::\u001b[0mITensor, \u001b[90mnew_inds\u001b[39m::\u001b[0mTuple\u001b[90m{Index{Int64}, Index{Int64}}\u001b[39m\u001b[0m\u001b[1m)\u001b[22m",
      "\u001b[90m   @\u001b[39m \u001b[35mITensors\u001b[39m \u001b[90m~/.julia/packages/ITensors/elsyT/src/tensor_operations/\u001b[39m\u001b[90m\u001b[4mpermutations.jl:38\u001b[24m\u001b[39m",
      " [4] top-level scope",
      "\u001b[90m   @\u001b[39m \u001b[90m\u001b[4mIn[11]:1\u001b[24m\u001b[39m"
     ]
    }
   ],
   "source": [
    "A_mat = array(permute(T, (i1, i2)))\n",
    "#eigvals, eigvecs = eigen(A_mat, i1, i2)"
   ]
  },
  {
   "cell_type": "code",
   "execution_count": null,
   "id": "6e1c2802",
   "metadata": {},
   "outputs": [
    {
     "name": "stdout",
     "output_type": "stream",
     "text": [
      "eigvals(A_mat) = [0.9813491296916298, 54.61680090345261]\n",
      "eigvecs(A_mat) = [0.018647627255526746 -0.9998261178813739; -0.9998261178813739 -0.018647627255526746]\n"
     ]
    },
    {
     "data": {
      "text/plain": [
       "2×2 Matrix{Float64}:\n",
       "  0.0186476  -0.999826\n",
       " -0.999826   -0.0186476"
      ]
     },
     "execution_count": 262,
     "metadata": {},
     "output_type": "execute_result"
    }
   ],
   "source": [
    "@show eigvals(A_mat)\n",
    "@show eigvecs(A_mat)"
   ]
  },
  {
   "cell_type": "code",
   "execution_count": null,
   "id": "8f2049b3",
   "metadata": {},
   "outputs": [
    {
     "data": {
      "text/plain": [
       "LinearAlgebra"
      ]
     },
     "execution_count": 263,
     "metadata": {},
     "output_type": "execute_result"
    }
   ],
   "source": [
    "@which eigen"
   ]
  },
  {
   "cell_type": "code",
   "execution_count": null,
   "id": "96e1afeb",
   "metadata": {},
   "outputs": [
    {
     "data": {
      "text/plain": [
       "4-element NDTensors.Dense{Float64, Vector{Float64}}:\n",
       " 54.598150033144236\n",
       "  1.0\n",
       "  1.0\n",
       "  1.0"
      ]
     },
     "execution_count": 246,
     "metadata": {},
     "output_type": "execute_result"
    }
   ],
   "source": [
    "storage(T)"
   ]
  },
  {
   "cell_type": "code",
   "execution_count": null,
   "id": "d0f50b23",
   "metadata": {},
   "outputs": [
    {
     "data": {
      "text/plain": [
       "ITensor ord=2 (dim=2|id=325|\"i=2,j=2,σ\") (dim=2|id=431|\"i=2,j=1,s\")\n",
       "NDTensors.Dense{Float64, Vector{Float64}}"
      ]
     },
     "execution_count": 247,
     "metadata": {},
     "output_type": "execute_result"
    }
   ],
   "source": [
    "M = dense(T)"
   ]
  },
  {
   "cell_type": "code",
   "execution_count": null,
   "id": "7fd2e3b2",
   "metadata": {},
   "outputs": [
    {
     "ename": "LoadError",
     "evalue": "Number of left and right indices must add up to total number of indices",
     "output_type": "error",
     "traceback": [
      "Number of left and right indices must add up to total number of indices",
      "",
      "Stacktrace:",
      " [1] \u001b[0m\u001b[1merror\u001b[22m\u001b[0m\u001b[1m(\u001b[22m\u001b[90ms\u001b[39m::\u001b[0mString\u001b[0m\u001b[1m)\u001b[22m",
      "\u001b[90m   @\u001b[39m \u001b[90mBase\u001b[39m \u001b[90m./\u001b[39m\u001b[90m\u001b[4merror.jl:35\u001b[24m\u001b[39m",
      " [2] \u001b[0m\u001b[1meigen\u001b[22m\u001b[0m\u001b[1m(\u001b[22m\u001b[90mA\u001b[39m::\u001b[0mITensor, \u001b[90mLinds\u001b[39m::\u001b[0mTuple\u001b[90m{Index{Int64}, Index{Int64}}\u001b[39m, \u001b[90mRinds\u001b[39m::\u001b[0mTuple\u001b[90m{Index{Int64}, Index{Int64}}\u001b[39m; \u001b[90mmindim\u001b[39m::\u001b[0mNothing, \u001b[90mmaxdim\u001b[39m::\u001b[0mNothing, \u001b[90mcutoff\u001b[39m::\u001b[0mNothing, \u001b[90muse_absolute_cutoff\u001b[39m::\u001b[0mNothing, \u001b[90muse_relative_cutoff\u001b[39m::\u001b[0mNothing, \u001b[90mishermitian\u001b[39m::\u001b[0mNothing, \u001b[90mtags\u001b[39m::\u001b[0mNothing, \u001b[90mlefttags\u001b[39m::\u001b[0mNothing, \u001b[90mrighttags\u001b[39m::\u001b[0mNothing, \u001b[90mplev\u001b[39m::\u001b[0mNothing, \u001b[90mleftplev\u001b[39m::\u001b[0mNothing, \u001b[90mrightplev\u001b[39m::\u001b[0mNothing\u001b[0m\u001b[1m)\u001b[22m",
      "\u001b[90m   @\u001b[39m \u001b[35mITensors\u001b[39m \u001b[90m~/.julia/packages/ITensors/elsyT/src/tensor_operations/\u001b[39m\u001b[90m\u001b[4mmatrix_decomposition.jl:326\u001b[24m\u001b[39m",
      " [3] \u001b[0m\u001b[1meigen\u001b[22m\u001b[0m\u001b[1m(\u001b[22m\u001b[90mA\u001b[39m::\u001b[0mITensor, \u001b[90mLinds\u001b[39m::\u001b[0mTuple\u001b[90m{Index{Int64}, Index{Int64}}\u001b[39m, \u001b[90mRinds\u001b[39m::\u001b[0mTuple\u001b[90m{Index{Int64}, Index{Int64}}\u001b[39m\u001b[0m\u001b[1m)\u001b[22m",
      "\u001b[90m   @\u001b[39m \u001b[35mITensors\u001b[39m \u001b[90m~/.julia/packages/ITensors/elsyT/src/tensor_operations/\u001b[39m\u001b[90m\u001b[4mmatrix_decomposition.jl:291\u001b[24m\u001b[39m",
      " [4] \u001b[0m\u001b[1meigen\u001b[22m\u001b[0m\u001b[1m(\u001b[22m\u001b[90mA\u001b[39m::\u001b[0mITensor; \u001b[90mkwargs\u001b[39m::\u001b[0m@Kwargs\u001b[90m{}\u001b[39m\u001b[0m\u001b[1m)\u001b[22m",
      "\u001b[90m   @\u001b[39m \u001b[35mITensors\u001b[39m \u001b[90m~/.julia/packages/ITensors/elsyT/src/tensor_operations/\u001b[39m\u001b[90m\u001b[4mmatrix_decomposition.jl:411\u001b[24m\u001b[39m",
      " [5] \u001b[0m\u001b[1meigen\u001b[22m\u001b[0m\u001b[1m(\u001b[22m\u001b[90mA\u001b[39m::\u001b[0mITensor\u001b[0m\u001b[1m)\u001b[22m",
      "\u001b[90m   @\u001b[39m \u001b[35mITensors\u001b[39m \u001b[90m~/.julia/packages/ITensors/elsyT/src/tensor_operations/\u001b[39m\u001b[90m\u001b[4mmatrix_decomposition.jl:408\u001b[24m\u001b[39m",
      " [6] top-level scope",
      "\u001b[90m   @\u001b[39m \u001b[90m\u001b[4mIn[248]:1\u001b[24m\u001b[39m"
     ]
    }
   ],
   "source": [
    "eigvals, eigvecs = eigen(M)"
   ]
  },
  {
   "cell_type": "code",
   "execution_count": 112,
   "id": "2127a977",
   "metadata": {},
   "outputs": [
    {
     "ename": "LoadError",
     "evalue": "MethodError: no method matching Index(::typeof(dim), ::String)\nThe type `Index` exists, but no method is defined for this combination of argument types when trying to construct it.\n\n\u001b[0mClosest candidates are:\n\u001b[0m  Index(::Any, ::T, \u001b[91m::Any\u001b[39m, \u001b[91m::Any\u001b[39m, \u001b[91m::Any\u001b[39m) where T\n\u001b[0m\u001b[90m   @\u001b[39m \u001b[35mITensors\u001b[39m \u001b[90m~/.julia/packages/ITensors/elsyT/src/\u001b[39m\u001b[90m\u001b[4mindex.jl:48\u001b[24m\u001b[39m\n\u001b[0m  Index(\u001b[91m::Vector{Pair{QN, Int64}}\u001b[39m, ::Any; dir, plev)\n\u001b[0m\u001b[90m   @\u001b[39m \u001b[35mITensors\u001b[39m \u001b[90m~/.julia/packages/ITensors/elsyT/src/qn/\u001b[39m\u001b[90m\u001b[4mqnindex.jl:148\u001b[24m\u001b[39m\n\u001b[0m  Index(\u001b[91m::Number\u001b[39m, ::Union{ITensors.TagSets.GenericTagSet{BitIntegers.UInt256, 4}, AbstractString}; plev)\n\u001b[0m\u001b[90m   @\u001b[39m \u001b[35mITensors\u001b[39m \u001b[90m~/.julia/packages/ITensors/elsyT/src/\u001b[39m\u001b[90m\u001b[4mindex.jl:100\u001b[24m\u001b[39m\n\u001b[0m  ...\n",
     "output_type": "error",
     "traceback": [
      "MethodError: no method matching Index(::typeof(dim), ::String)\nThe type `Index` exists, but no method is defined for this combination of argument types when trying to construct it.\n\n\u001b[0mClosest candidates are:\n\u001b[0m  Index(::Any, ::T, \u001b[91m::Any\u001b[39m, \u001b[91m::Any\u001b[39m, \u001b[91m::Any\u001b[39m) where T\n\u001b[0m\u001b[90m   @\u001b[39m \u001b[35mITensors\u001b[39m \u001b[90m~/.julia/packages/ITensors/elsyT/src/\u001b[39m\u001b[90m\u001b[4mindex.jl:48\u001b[24m\u001b[39m\n\u001b[0m  Index(\u001b[91m::Vector{Pair{QN, Int64}}\u001b[39m, ::Any; dir, plev)\n\u001b[0m\u001b[90m   @\u001b[39m \u001b[35mITensors\u001b[39m \u001b[90m~/.julia/packages/ITensors/elsyT/src/qn/\u001b[39m\u001b[90m\u001b[4mqnindex.jl:148\u001b[24m\u001b[39m\n\u001b[0m  Index(\u001b[91m::Number\u001b[39m, ::Union{ITensors.TagSets.GenericTagSet{BitIntegers.UInt256, 4}, AbstractString}; plev)\n\u001b[0m\u001b[90m   @\u001b[39m \u001b[35mITensors\u001b[39m \u001b[90m~/.julia/packages/ITensors/elsyT/src/\u001b[39m\u001b[90m\u001b[4mindex.jl:100\u001b[24m\u001b[39m\n\u001b[0m  ...\n",
      "",
      "Stacktrace:",
      " [1] top-level scope",
      "\u001b[90m   @\u001b[39m \u001b[90m\u001b[4mIn[112]:2\u001b[24m\u001b[39m"
     ]
    }
   ],
   "source": [
    "# 1. 線形化されたインデックス\n",
    "i_lin = Index(dim, \"i_lin\")\n",
    "j_lin = Index(dim, \"j_lin\")\n",
    "\n",
    "# 2. 線形なテンソルを作る\n",
    "A = ITensor(i_lin, j_lin)\n",
    "for i in 1:dim, j in 1:dim\n",
    "    A[i_lin => i, j_lin => j] = mat[i, j]\n",
    "end"
   ]
  },
  {
   "cell_type": "code",
   "execution_count": null,
   "id": "49b214b6",
   "metadata": {},
   "outputs": [
    {
     "ename": "LoadError",
     "evalue": "MethodError: no method matching Index(::typeof(dim), ::String)\nThe type `Index` exists, but no method is defined for this combination of argument types when trying to construct it.\n\n\u001b[0mClosest candidates are:\n\u001b[0m  Index(::Any, ::T, \u001b[91m::Any\u001b[39m, \u001b[91m::Any\u001b[39m, \u001b[91m::Any\u001b[39m) where T\n\u001b[0m\u001b[90m   @\u001b[39m \u001b[35mITensors\u001b[39m \u001b[90m~/.julia/packages/ITensors/elsyT/src/\u001b[39m\u001b[90m\u001b[4mindex.jl:48\u001b[24m\u001b[39m\n\u001b[0m  Index(\u001b[91m::Vector{Pair{QN, Int64}}\u001b[39m, ::Any; dir, plev)\n\u001b[0m\u001b[90m   @\u001b[39m \u001b[35mITensors\u001b[39m \u001b[90m~/.julia/packages/ITensors/elsyT/src/qn/\u001b[39m\u001b[90m\u001b[4mqnindex.jl:148\u001b[24m\u001b[39m\n\u001b[0m  Index(\u001b[91m::Number\u001b[39m, ::Union{ITensors.TagSets.GenericTagSet{BitIntegers.UInt256, 4}, AbstractString}; plev)\n\u001b[0m\u001b[90m   @\u001b[39m \u001b[35mITensors\u001b[39m \u001b[90m~/.julia/packages/ITensors/elsyT/src/\u001b[39m\u001b[90m\u001b[4mindex.jl:100\u001b[24m\u001b[39m\n\u001b[0m  ...\n",
     "output_type": "error",
     "traceback": [
      "MethodError: no method matching Index(::typeof(dim), ::String)\nThe type `Index` exists, but no method is defined for this combination of argument types when trying to construct it.\n\n\u001b[0mClosest candidates are:\n\u001b[0m  Index(::Any, ::T, \u001b[91m::Any\u001b[39m, \u001b[91m::Any\u001b[39m, \u001b[91m::Any\u001b[39m) where T\n\u001b[0m\u001b[90m   @\u001b[39m \u001b[35mITensors\u001b[39m \u001b[90m~/.julia/packages/ITensors/elsyT/src/\u001b[39m\u001b[90m\u001b[4mindex.jl:48\u001b[24m\u001b[39m\n\u001b[0m  Index(\u001b[91m::Vector{Pair{QN, Int64}}\u001b[39m, ::Any; dir, plev)\n\u001b[0m\u001b[90m   @\u001b[39m \u001b[35mITensors\u001b[39m \u001b[90m~/.julia/packages/ITensors/elsyT/src/qn/\u001b[39m\u001b[90m\u001b[4mqnindex.jl:148\u001b[24m\u001b[39m\n\u001b[0m  Index(\u001b[91m::Number\u001b[39m, ::Union{ITensors.TagSets.GenericTagSet{BitIntegers.UInt256, 4}, AbstractString}; plev)\n\u001b[0m\u001b[90m   @\u001b[39m \u001b[35mITensors\u001b[39m \u001b[90m~/.julia/packages/ITensors/elsyT/src/\u001b[39m\u001b[90m\u001b[4mindex.jl:100\u001b[24m\u001b[39m\n\u001b[0m  ...\n",
      "",
      "Stacktrace:",
      " [1] top-level scope",
      "\u001b[90m   @\u001b[39m \u001b[90m\u001b[4mIn[111]:2\u001b[24m\u001b[39m"
     ]
    }
   ],
   "source": [
    "\n",
    "\n",
    "# 3. 新しい多次元インデックスを定義\n",
    "i1 = Index(2, \"i1\")\n",
    "i2 = Index(2, \"i2\")\n",
    "j1 = Index(2, \"j1\")\n",
    "j2 = Index(2, \"j2\")\n",
    "\n",
    "# 4. 線形Index → 多次元Indexの置き換え\n",
    "A_new = replaceinds(A, (i_lin => (i1, i2), j_lin => (j1, j2)))\n"
   ]
  }
 ],
 "metadata": {
  "kernelspec": {
   "display_name": "Julia 1.11.5",
   "language": "julia",
   "name": "julia-1.11"
  },
  "language_info": {
   "file_extension": ".jl",
   "mimetype": "application/julia",
   "name": "julia",
   "version": "1.11.5"
  }
 },
 "nbformat": 4,
 "nbformat_minor": 5
}

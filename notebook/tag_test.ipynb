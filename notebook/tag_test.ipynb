{
 "cells": [
  {
   "cell_type": "code",
   "execution_count": 2,
   "id": "664e3ee2",
   "metadata": {},
   "outputs": [],
   "source": [
    "using Revise"
   ]
  },
  {
   "cell_type": "code",
   "execution_count": 3,
   "id": "3ff67b35",
   "metadata": {},
   "outputs": [
    {
     "name": "stderr",
     "output_type": "stream",
     "text": [
      "\u001b[36m\u001b[1m[ \u001b[22m\u001b[39m\u001b[36m\u001b[1mInfo: \u001b[22m\u001b[39mPrecompiling CTMRG [c050b7f9-16a0-4967-b3f3-566d5b3f75cc] (cache misses: include_dependency fsize change (2))\n"
     ]
    }
   ],
   "source": [
    "using ITensors\n",
    "using Test\n",
    "import CTMRG"
   ]
  },
  {
   "cell_type": "code",
   "execution_count": 4,
   "id": "bee4ddc8",
   "metadata": {},
   "outputs": [
    {
     "name": "stdout",
     "output_type": "stream",
     "text": [
      "D_new = replaceind(D, s1 => _s1) = ITensor ord=1\n",
      "Dim 1: (dim=2|id=161|\"_s1,m=1\")\n",
      "NDTensors.Dense{Float64, Vector{Float64}}\n",
      " 2-element\n",
      " 1.0\n",
      " 0.0\n"
     ]
    }
   ],
   "source": [
    "#tagの張り替え\n",
    "s1 = Index(2, \"s1,m=1\")\n",
    "_s1 = Index(2, \"_s1,m=1\")\n",
    "D = CTMRG.fixend(s1)\n",
    "indices = inds(D)\n",
    "@show D_new = replaceind(D, s1 => _s1)\n",
    "#@show indices2 = findfirst(inds(D) .== new_ind)\n",
    ";"
   ]
  },
  {
   "cell_type": "code",
   "execution_count": 5,
   "id": "3706a08d",
   "metadata": {},
   "outputs": [
    {
     "name": "stdout",
     "output_type": "stream",
     "text": [
      "σ[s1 => 1, _s1 => 1] = 1.0\n",
      "σ[s1 => 2, _s1 => 2] = -1.0\n",
      "σ[s1 => 1, _s1 => 2] = 0.0\n",
      "σ[s1 => 2, _s1 => 1] = 0.0\n"
     ]
    }
   ],
   "source": [
    "σ = diagITensor([1.0, -1.0], s1 , _s1)\n",
    "@show σ[s1 => 1, _s1 => 1] \n",
    "@show σ[s1 => 2, _s1 => 2] \n",
    "@show σ[s1 => 1, _s1 => 2] \n",
    "@show σ[s1 => 2, _s1 => 1] \n",
    ";"
   ]
  },
  {
   "cell_type": "code",
   "execution_count": 6,
   "id": "7b07a9f7",
   "metadata": {},
   "outputs": [
    {
     "data": {
      "text/plain": [
       "sigma_tensor (generic function with 1 method)"
      ]
     },
     "execution_count": 6,
     "metadata": {},
     "output_type": "execute_result"
    }
   ],
   "source": [
    "function sigma_tensor(ind1::Index, ind2::Index)\n",
    "    return diagITensor([1.0, -1.0], ind1, ind2)\n",
    "end"
   ]
  },
  {
   "cell_type": "code",
   "execution_count": 7,
   "id": "4a6bc919",
   "metadata": {},
   "outputs": [
    {
     "name": "stdout",
     "output_type": "stream",
     "text": [
      "\u001b[0m\u001b[1mTest Summary:     | \u001b[22m\u001b[32m\u001b[1mPass  \u001b[22m\u001b[39m\u001b[36m\u001b[1mTotal  \u001b[22m\u001b[39m\u001b[0m\u001b[1mTime\u001b[22m\n",
      "sigma_tensor test | \u001b[32m   4  \u001b[39m\u001b[36m    4  \u001b[39m\u001b[0m0.2s\n"
     ]
    },
    {
     "data": {
      "text/plain": [
       "Test.DefaultTestSet(\"sigma_tensor test\", Any[], 4, false, false, true, 1.754293751565534e9, 1.754293751739831e9, false, \"In[7]\")"
      ]
     },
     "execution_count": 7,
     "metadata": {},
     "output_type": "execute_result"
    }
   ],
   "source": [
    "@testset \"sigma_tensor test\" begin\n",
    "    s1 = Index(2, \"s1,m=1\")\n",
    "    _s1 = Index(2, \"_s1,m=1\")\n",
    "    σ_test = sigma_tensor(s1, _s1)\n",
    "    @test σ_test[s1 => 1, _s1 => 1] == 1.0\n",
    "    @test σ_test[s1 => 2, _s1 => 2] == -1.0\n",
    "    @test σ_test[s1 => 1, _s1 => 2] == 0.0\n",
    "    @test σ_test[s1 => 2, _s1 => 1] == 0.0\n",
    "end"
   ]
  },
  {
   "cell_type": "code",
   "execution_count": 8,
   "id": "c94c8254",
   "metadata": {},
   "outputs": [
    {
     "data": {
      "text/plain": [
       "make_1D_index_tags (generic function with 1 method)"
      ]
     },
     "execution_count": 8,
     "metadata": {},
     "output_type": "execute_result"
    }
   ],
   "source": [
    "#1Dのtagを作成する関数\n",
    "function make_1D_index_tags(s::String, N::Int)\n",
    "    s_list = Vector{Index}(undef, N) #undefで初期化\n",
    "    for i in 1:N\n",
    "        s_list[i] = Index(2, \"$s,m=$i\")\n",
    "    end\n",
    "    return s_list\n",
    "end"
   ]
  },
  {
   "cell_type": "code",
   "execution_count": 9,
   "id": "4b2451f8",
   "metadata": {},
   "outputs": [
    {
     "name": "stdout",
     "output_type": "stream",
     "text": [
      "\u001b[0m\u001b[1mTest Summary:           | \u001b[22m\u001b[32m\u001b[1mPass  \u001b[22m\u001b[39m\u001b[36m\u001b[1mTotal  \u001b[22m\u001b[39m\u001b[0m\u001b[1mTime\u001b[22m\n",
      "make_1D_index_tags test | \u001b[32m   2  \u001b[39m\u001b[36m    2  \u001b[39m\u001b[0m0.1s\n"
     ]
    },
    {
     "data": {
      "text/plain": [
       "Test.DefaultTestSet(\"make_1D_index_tags test\", Any[], 2, false, false, true, 1.754293752236086e9, 1.754293752287647e9, false, \"In[9]\")"
      ]
     },
     "execution_count": 9,
     "metadata": {},
     "output_type": "execute_result"
    }
   ],
   "source": [
    "@testset \"make_1D_index_tags test\" begin\n",
    "    s_list = make_1D_index_tags(\"s1\", 4)\n",
    "\n",
    "    @test length(s_list) == 4\n",
    "    @test all(idx -> dim(idx) == 2, s_list)\n",
    "end"
   ]
  },
  {
   "cell_type": "code",
   "execution_count": 10,
   "id": "b83a5e8b",
   "metadata": {},
   "outputs": [],
   "source": [
    "#2Dのsのtagを作成する関数\n",
    "L = 1\n",
    "i = 2*L +1 #列\n",
    "j = 2*L #行\n",
    "sind_list = Array{Index}(undef, j, i) # j行 × i列\n",
    "for m in 1:i #列優先でループを回す\n",
    "    for n in 1:j\n",
    "        sind_list[n, m] = Index(2, \"s,j=$n,i=$m\")\n",
    "    end\n",
    "end\n",
    "sind_list\n",
    ";"
   ]
  },
  {
   "cell_type": "code",
   "execution_count": 11,
   "id": "25758783",
   "metadata": {},
   "outputs": [
    {
     "data": {
      "text/plain": [
       "make_2D_index_stags (generic function with 1 method)"
      ]
     },
     "execution_count": 11,
     "metadata": {},
     "output_type": "execute_result"
    }
   ],
   "source": [
    "function make_2D_index_stags(L::Int)\n",
    "    i = 2*L + 1 # 列\n",
    "    j = 2*L # 行\n",
    "    sind_list = Array{Index}(undef, j, i) # j行 × i列\n",
    "    for m in 1:i # 列優先でループを回す\n",
    "        for n in 1:j\n",
    "            sind_list[n, m] = Index(2, \"s,j=$n,i=$m\")\n",
    "        end\n",
    "    end\n",
    "    return sind_list\n",
    "end"
   ]
  },
  {
   "cell_type": "code",
   "execution_count": 12,
   "id": "6ad88767",
   "metadata": {},
   "outputs": [
    {
     "data": {
      "text/plain": [
       "2×3 Matrix{Index}:\n",
       " (dim=2|id=242|\"i=1,j=1,s\")  …  (dim=2|id=490|\"i=3,j=1,s\")\n",
       " (dim=2|id=727|\"i=1,j=2,s\")     (dim=2|id=656|\"i=3,j=2,s\")"
      ]
     },
     "execution_count": 12,
     "metadata": {},
     "output_type": "execute_result"
    }
   ],
   "source": [
    "stag = make_2D_index_stags(1)"
   ]
  },
  {
   "cell_type": "code",
   "execution_count": 22,
   "id": "f71f8ef7",
   "metadata": {},
   "outputs": [
    {
     "data": {
      "text/plain": [
       "2-element Vector{Index}:\n",
       " (dim=2|id=242|\"i=1,j=1,s\")\n",
       " (dim=2|id=727|\"i=1,j=2,s\")"
      ]
     },
     "execution_count": 22,
     "metadata": {},
     "output_type": "execute_result"
    }
   ],
   "source": [
    "stag[:,1]"
   ]
  },
  {
   "cell_type": "code",
   "execution_count": 13,
   "id": "47f75aef",
   "metadata": {},
   "outputs": [
    {
     "data": {
      "text/plain": [
       "make_2D_index_σtags (generic function with 1 method)"
      ]
     },
     "execution_count": 13,
     "metadata": {},
     "output_type": "execute_result"
    }
   ],
   "source": [
    "#2Dのsigmaのtagを作成する関数\n",
    "function make_2D_index_σtags(L::Int)\n",
    "    i = 2*L # 列\n",
    "    j = 2*L + 1 # 行\n",
    "    σind_list = Array{Index}(undef, j, i) # j行 × i列\n",
    "    for m in 1:i \n",
    "        for n in 1:j\n",
    "            σind_list[n, m] = Index(2, \"σ,j=$n,i=$m\")\n",
    "        end\n",
    "    end\n",
    "    return σind_list\n",
    "end "
   ]
  },
  {
   "cell_type": "code",
   "execution_count": 16,
   "id": "e0d6c456",
   "metadata": {},
   "outputs": [
    {
     "data": {
      "text/plain": [
       "3×2 Matrix{Index}:\n",
       " (dim=2|id=291|\"i=1,j=1,σ\")  (dim=2|id=715|\"i=2,j=1,σ\")\n",
       " (dim=2|id=607|\"i=1,j=2,σ\")  (dim=2|id=435|\"i=2,j=2,σ\")\n",
       " (dim=2|id=294|\"i=1,j=3,σ\")  (dim=2|id=762|\"i=2,j=3,σ\")"
      ]
     },
     "execution_count": 16,
     "metadata": {},
     "output_type": "execute_result"
    }
   ],
   "source": [
    "σtag = make_2D_index_σtags(L)"
   ]
  },
  {
   "cell_type": "code",
   "execution_count": 21,
   "id": "f7204cca",
   "metadata": {},
   "outputs": [
    {
     "data": {
      "text/plain": [
       "2-element Vector{Index}:\n",
       " (dim=2|id=294|\"i=1,j=3,σ\")\n",
       " (dim=2|id=762|\"i=2,j=3,σ\")"
      ]
     },
     "execution_count": 21,
     "metadata": {},
     "output_type": "execute_result"
    }
   ],
   "source": [
    "σtag_up = σtag[2*L+1,:]"
   ]
  },
  {
   "cell_type": "code",
   "execution_count": 14,
   "id": "8874faa2",
   "metadata": {},
   "outputs": [
    {
     "data": {
      "text/plain": [
       "change_tag (generic function with 1 method)"
      ]
     },
     "execution_count": 14,
     "metadata": {},
     "output_type": "execute_result"
    }
   ],
   "source": [
    "#tagの張り替えの関数 replaceindがあったので没\n",
    "function change_tag(T::ITensor, old_ind::Index, new_ind::Index)\n",
    "    new_T = ITensor(old_ind, new_ind)\n",
    "    new_T[old_ind => 1, new_ind => 1] = 1\n",
    "    new_T[old_ind => 2, new_ind => 2] = 1\n",
    "    new_T[old_ind => 1, new_ind => 2] = 0\n",
    "    new_T[old_ind => 2, new_ind => 1] = 0\n",
    "    return new_T*T\n",
    "end"
   ]
  }
 ],
 "metadata": {
  "kernelspec": {
   "display_name": "Julia 1.11.5",
   "language": "julia",
   "name": "julia-1.11"
  },
  "language_info": {
   "file_extension": ".jl",
   "mimetype": "application/julia",
   "name": "julia",
   "version": "1.11.5"
  }
 },
 "nbformat": 4,
 "nbformat_minor": 5
}

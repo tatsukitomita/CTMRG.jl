{
 "cells": [
  {
   "cell_type": "code",
   "execution_count": 1,
   "id": "49e71692",
   "metadata": {},
   "outputs": [],
   "source": [
    "using Revise"
   ]
  },
  {
   "cell_type": "code",
   "execution_count": 2,
   "id": "3644e74c",
   "metadata": {},
   "outputs": [],
   "source": [
    "using ITensors\n",
    "using Test\n",
    "import CTMRG"
   ]
  },
  {
   "cell_type": "code",
   "execution_count": 93,
   "id": "9af6e11c",
   "metadata": {},
   "outputs": [
    {
     "data": {
      "text/plain": [
       "14"
      ]
     },
     "execution_count": 93,
     "metadata": {},
     "output_type": "execute_result"
    }
   ],
   "source": [
    "ITensors.disable_warn_order()"
   ]
  },
  {
   "cell_type": "code",
   "execution_count": 7,
   "id": "f5291655",
   "metadata": {},
   "outputs": [
    {
     "data": {
      "text/plain": [
       "ising_transfer_element_2D (generic function with 1 method)"
      ]
     },
     "execution_count": 7,
     "metadata": {},
     "output_type": "execute_result"
    }
   ],
   "source": [
    "function ising_transfer_element_2D(i1::Int,i2::Int,j1::Int,j2::Int,\n",
    "    β::Float64, J::Float64)\n",
    "    σ1 = 2*i1 -1 #up spin\n",
    "    σ2 = 2*i2 -1 #down spin\n",
    "    s1 = 2*j1 -1 #left spin\n",
    "    s2 = 2*j2 -1 #right spin\n",
    "    return exp(β*J*(σ1*s1 + s1*σ2 + σ2*s2 + s2*σ1))\n",
    "end"
   ]
  },
  {
   "cell_type": "code",
   "execution_count": 8,
   "id": "75b53f4b",
   "metadata": {},
   "outputs": [
    {
     "data": {
      "text/plain": [
       "54.598150033144236"
      ]
     },
     "execution_count": 8,
     "metadata": {},
     "output_type": "execute_result"
    }
   ],
   "source": [
    "β = 1.0\n",
    "J = 1.0\n",
    "ising_transfer_element_2D(1, 1, 1, 1, β, J)"
   ]
  },
  {
   "cell_type": "code",
   "execution_count": 9,
   "id": "e9ce0531",
   "metadata": {},
   "outputs": [
    {
     "name": "stdout",
     "output_type": "stream",
     "text": [
      "\u001b[0m\u001b[1mTest Summary:                 | \u001b[22m\u001b[32m\u001b[1mPass  \u001b[22m\u001b[39m\u001b[36m\u001b[1mTotal  \u001b[22m\u001b[39m\u001b[0m\u001b[1mTime\u001b[22m\n",
      "ising_transfer_element_2Dのテスト | \u001b[32m   4  \u001b[39m\u001b[36m    4  \u001b[39m\u001b[0m0.2s\n"
     ]
    },
    {
     "data": {
      "text/plain": [
       "Test.DefaultTestSet(\"ising_transfer_element_2Dのテスト\", Any[], 4, false, false, true, 1.754612956312843e9, 1.754612956474644e9, false, \"In[9]\")"
      ]
     },
     "execution_count": 9,
     "metadata": {},
     "output_type": "execute_result"
    }
   ],
   "source": [
    "@testset \"ising_transfer_element_2Dのテスト\" begin\n",
    "    β = 1.0\n",
    "    J = 1.0\n",
    "    @test ising_transfer_element_2D(1, 1, 1, 1, β, J) ≈ exp(β*J*4) #全てのスピンがup\n",
    "    @test ising_transfer_element_2D(0, 0, 0, 0, β, J) ≈ exp(β*J*4) #全てのスピンがdown\n",
    "    @test ising_transfer_element_2D(1, 0, 0, 0, β, J) ≈ 1.0\n",
    "    @test ising_transfer_element_2D(1, 1, 0, 0, β, J) ≈ exp(-β*J*4)\n",
    "end"
   ]
  },
  {
   "cell_type": "code",
   "execution_count": 10,
   "id": "4397a2f6",
   "metadata": {},
   "outputs": [
    {
     "data": {
      "text/plain": [
       "ising_transfer_tensor_2D (generic function with 1 method)"
      ]
     },
     "execution_count": 10,
     "metadata": {},
     "output_type": "execute_result"
    }
   ],
   "source": [
    "#2Dイジングの転送行列を定義する関数\n",
    "function ising_transfer_tensor_2D(β::Float64, J::Float64,\n",
    "    σ1::Index, σ2::Index, s1::Index, s2::Index)\n",
    "    T = ITensor(σ1, σ2, s1, s2)\n",
    "    for i1 in 0:1, i2 in 0:1,\n",
    "        j1 in 0:1, j2 in 0:1\n",
    "        T[σ1=>i1+1, σ2=>i2+1, s1=>j1+1, s2=>j2+1] =\n",
    "            ising_transfer_element_2D(i1, i2, j1, j2, β, J)\n",
    "    end\n",
    "    return T\n",
    "end"
   ]
  },
  {
   "cell_type": "code",
   "execution_count": 11,
   "id": "69697e5c",
   "metadata": {},
   "outputs": [
    {
     "name": "stdout",
     "output_type": "stream",
     "text": [
      "\u001b[0m\u001b[1mTest Summary:                | \u001b[22m\u001b[32m\u001b[1mPass  \u001b[22m\u001b[39m\u001b[36m\u001b[1mTotal  \u001b[22m\u001b[39m\u001b[0m\u001b[1mTime\u001b[22m\n",
      "ising_transfer_tensor_2Dのテスト | \u001b[32m   4  \u001b[39m\u001b[36m    4  \u001b[39m\u001b[0m0.6s\n"
     ]
    },
    {
     "data": {
      "text/plain": [
       "Test.DefaultTestSet(\"ising_transfer_tensor_2Dのテスト\", Any[], 4, false, false, true, 1.754612959557284e9, 1.754612960124202e9, false, \"In[11]\")"
      ]
     },
     "execution_count": 11,
     "metadata": {},
     "output_type": "execute_result"
    }
   ],
   "source": [
    "@testset \"ising_transfer_tensor_2Dのテスト\" begin\n",
    "    σ1 = Index(2, \"σ1,m=1\")\n",
    "    σ2 = Index(2, \"σ2,m=1\")\n",
    "    s1 = Index(2, \"s1,n=1\")\n",
    "    s2 = Index(2, \"s2,n=1\")\n",
    "    β = 1.0\n",
    "    J = 1.0\n",
    "    T = ising_transfer_tensor_2D(β, J, σ1, σ2, s1, s2)\n",
    "    @test T[σ1=>1, σ2=>1, s1=>1, s2=>1] ≈ exp(β*J*4) #全てのスピンがup\n",
    "    @test T[σ1=>2, σ2=>2, s1=>2, s2=>2] ≈ exp(β*J*4) #全てのスピンがdown\n",
    "    @test T[σ1=>1, σ2=>2, s1=>2, s2=>2] ≈ 1.0\n",
    "    @test T[σ1=>1, σ2=>1, s1=>2, s2=>2] ≈ exp(-β*J*4)\n",
    "end"
   ]
  },
  {
   "cell_type": "code",
   "execution_count": 12,
   "id": "95cfe705",
   "metadata": {},
   "outputs": [
    {
     "data": {
      "text/plain": [
       "make_boundary_tensors (generic function with 1 method)"
      ]
     },
     "execution_count": 12,
     "metadata": {},
     "output_type": "execute_result"
    }
   ],
   "source": [
    "#境界条件を作る関数\n",
    "function make_boundary_tensors(L::Int, ind_list::Vector{<:Index})#Indexの全ての方を受け入れる\n",
    "    l = length(ind_list)\n",
    "    @assert l == 2*L \"Length of ind_list must match L\"\n",
    "    boundary_list = Vector{ITensor}(undef, l)\n",
    "    for (i, ind) in enumerate(ind_list)\n",
    "        boundary_list[i] = CTMRG.fixend(ind)\n",
    "    end\n",
    "    return boundary_list\n",
    "end"
   ]
  },
  {
   "cell_type": "code",
   "execution_count": 13,
   "id": "c7811df8",
   "metadata": {},
   "outputs": [
    {
     "name": "stdout",
     "output_type": "stream",
     "text": [
      "\u001b[0m\u001b[1mTest Summary:             | \u001b[22m\u001b[32m\u001b[1mPass  \u001b[22m\u001b[39m\u001b[36m\u001b[1mTotal  \u001b[22m\u001b[39m\u001b[0m\u001b[1mTime\u001b[22m\n",
      "make_boundary_tensorsのテスト | \u001b[32m   2  \u001b[39m\u001b[36m    2  \u001b[39m\u001b[0m0.0s\n"
     ]
    },
    {
     "data": {
      "text/plain": [
       "Test.DefaultTestSet(\"make_boundary_tensorsのテスト\", Any[], 2, false, false, true, 1.754612962665806e9, 1.754612962691559e9, false, \"In[13]\")"
      ]
     },
     "execution_count": 13,
     "metadata": {},
     "output_type": "execute_result"
    }
   ],
   "source": [
    "ind_list = [Index(2, \"s,m=$i\") for i in 1:2]\n",
    "boundary_list = make_boundary_tensors(1, ind_list)\n",
    "@testset \"make_boundary_tensorsのテスト\" begin\n",
    "    ind_list = [Index(2, \"s,m=$i\") for i in 1:2]\n",
    "    boundary_list = make_boundary_tensors(1, ind_list)\n",
    "    @test length(boundary_list) == 2\n",
    "    @test all(idx -> dim(idx) == 2, boundary_list)\n",
    "end"
   ]
  },
  {
   "cell_type": "code",
   "execution_count": 14,
   "id": "cbbdfd6a",
   "metadata": {},
   "outputs": [
    {
     "data": {
      "text/plain": [
       "make_inner_tensors (generic function with 1 method)"
      ]
     },
     "execution_count": 14,
     "metadata": {},
     "output_type": "execute_result"
    }
   ],
   "source": [
    "#内部のテンソルを作る関数\n",
    "function make_inner_tensors(L::Int, β::Float64, J::Float64,\n",
    "    sind_list::Array{<:Index},σind_list::Array{<:Index})\n",
    "    length = 2*L\n",
    "    T_list = Array{ITensor}(undef, length, length)\n",
    "    for i in 1:length, j in 1:length\n",
    "        T_list[i, j] = ising_transfer_tensor_2D(β, J,\n",
    "            σind_list[j,i], σind_list[j+1,i],\n",
    "            sind_list[j,i], sind_list[j,i+1])\n",
    "    end\n",
    "    return T_list\n",
    "end    \n"
   ]
  },
  {
   "cell_type": "code",
   "execution_count": 15,
   "id": "8e2456e1",
   "metadata": {},
   "outputs": [
    {
     "name": "stdout",
     "output_type": "stream",
     "text": [
      "\u001b[0m\u001b[1mTest Summary:          | \u001b[22m\u001b[32m\u001b[1mPass  \u001b[22m\u001b[39m\u001b[36m\u001b[1mTotal  \u001b[22m\u001b[39m\u001b[0m\u001b[1mTime\u001b[22m\n",
      "make_inner_tensorsのテスト | \u001b[32m  17  \u001b[39m\u001b[36m   17  \u001b[39m\u001b[0m0.0s\n"
     ]
    },
    {
     "data": {
      "text/plain": [
       "Test.DefaultTestSet(\"make_inner_tensorsのテスト\", Any[], 17, false, false, true, 1.754612966225057e9, 1.754612966227216e9, false, \"In[15]\")"
      ]
     },
     "execution_count": 15,
     "metadata": {},
     "output_type": "execute_result"
    }
   ],
   "source": [
    "@testset \"make_inner_tensorsのテスト\" begin\n",
    "    σ = CTMRG.make_2D_index_σtags(1)\n",
    "    s = CTMRG.make_2D_index_stags(1)\n",
    "    T_list = make_inner_tensors(1, β, J, s, σ)\n",
    "    for i in 1:size(T_list, 1), j in 1:size(T_list, 2)\n",
    "        @test T_list[i,j][σ[j,i]=>1, σ[j+1,i]=>1, s[j,i]=>1, s[j,i+1]=>1] ≈ exp(β*J*4) #全てのスピンがup\n",
    "        @test T_list[i,j][σ[j,i]=>2, σ[j+1,i]=>2, s[j,i]=>2, s[j,i+1]=>2] ≈ exp(β*J*4) #全てのスピンがdown\n",
    "        @test T_list[i,j][σ[j,i]=>1, σ[j+1,i]=>2, s[j,i]=>2, s[j,i+1]=>2] ≈ 1.0\n",
    "        @test T_list[i,j][σ[j,i]=>1, σ[j+1,i]=>1, s[j,i]=>2, s[j,i+1]=>2] ≈ exp(-β*J*4)\n",
    "    end\n",
    "    @test size(T_list) == (2, 2) # 1x1の格子なので2x2のテンソル\n",
    "end"
   ]
  },
  {
   "cell_type": "code",
   "execution_count": 12,
   "id": "60ada833",
   "metadata": {},
   "outputs": [
    {
     "name": "stdout",
     "output_type": "stream",
     "text": [
      "σ_list[1, :] = Index[(dim=2|id=216|\"i=1,j=1,σ\"), (dim=2|id=31|\"i=2,j=1,σ\")]\n",
      "σ_list[3, :] = Index[(dim=2|id=441|\"i=1,j=3,σ\"), (dim=2|id=921|\"i=2,j=3,σ\")]\n",
      "s_list[:, 1] = Index[(dim=2|id=372|\"i=1,j=1,s\"), (dim=2|id=612|\"i=1,j=2,s\")]\n",
      "s_list[:, 3] = Index[(dim=2|id=958|\"i=3,j=1,s\"), (dim=2|id=265|\"i=3,j=2,s\")]\n"
     ]
    }
   ],
   "source": [
    "#tagの一部抜き出しの練習\n",
    "σ_list = CTMRG.make_2D_index_σtags(1)\n",
    "@show σ_list[1,:]\n",
    "@show σ_list[3,:]\n",
    "s_list = CTMRG.make_2D_index_stags(1)\n",
    "@show s_list[:,1]\n",
    "@show s_list[:,3]\n",
    ";\n"
   ]
  },
  {
   "cell_type": "code",
   "execution_count": 16,
   "id": "eb2b0c40",
   "metadata": {},
   "outputs": [
    {
     "data": {
      "text/plain": [
       "setup_tensors_2D (generic function with 1 method)"
      ]
     },
     "execution_count": 16,
     "metadata": {},
     "output_type": "execute_result"
    }
   ],
   "source": [
    "#2Dの分配関数を作る関数\n",
    "function setup_tensors_2D(L::Int, β::Float64, J::Float64)\n",
    "    σ_list = CTMRG.make_2D_index_σtags(L)\n",
    "    s_list = CTMRG.make_2D_index_stags(L)\n",
    "    T_list = make_inner_tensors(L, β, J, s_list, σ_list)\n",
    "    Dup_list = make_boundary_tensors(L, σ_list[2*L+1,:]) #上の境界\n",
    "    Ddown_list = make_boundary_tensors(L, σ_list[1,:]) #下の境界\n",
    "    L_list = make_boundary_tensors(L, s_list[:,1]) #左の境界\n",
    "    R_list = make_boundary_tensors(L, s_list[:,2*L+1]) #右の境界\n",
    "    return T_list, Dup_list, Ddown_list, L_list, R_list\n",
    "end\n"
   ]
  },
  {
   "cell_type": "code",
   "execution_count": 17,
   "id": "606762d1",
   "metadata": {},
   "outputs": [],
   "source": [
    "L = 2\n",
    "T_list, Dup_list, Ddown_list, L_list, R_list = setup_tensors_2D(L, β, J)\n",
    ";"
   ]
  },
  {
   "cell_type": "code",
   "execution_count": 18,
   "id": "20fd4150",
   "metadata": {},
   "outputs": [
    {
     "name": "stdout",
     "output_type": "stream",
     "text": [
      "only(result) = 8.898259745056173e6\n"
     ]
    }
   ],
   "source": [
    "\n",
    "T_list, Dup_list, Ddown_list, L_list, R_list = setup_tensors_2D(1, β, J)\n",
    "result = ITensor(true)\n",
    "#@show size(T, 1)\n",
    "#@show size(T, 2)\n",
    "T = ITensor(true)\n",
    "for T in T_list\n",
    "    result *= T\n",
    "end\n",
    "result\n",
    "#@show Z = only(Dup_list * Ddown_list * L_list * R_list * result)\n",
    "# 上端\n",
    "for T in Dup_list\n",
    "    result *= T\n",
    "end\n",
    "\n",
    "# 左端\n",
    "for T in L_list\n",
    "    result *= T\n",
    "end\n",
    "\n",
    "# 右端\n",
    "for T in R_list\n",
    "    result *= T\n",
    "end\n",
    "\n",
    "# 下端\n",
    "for T in Ddown_list\n",
    "    result *= T\n",
    "end\n",
    "@show only(result)\n",
    ";"
   ]
  },
  {
   "cell_type": "code",
   "execution_count": 19,
   "id": "c3743d08",
   "metadata": {},
   "outputs": [
    {
     "data": {
      "text/plain": [
       "partition_function_2D (generic function with 1 method)"
      ]
     },
     "execution_count": 19,
     "metadata": {},
     "output_type": "execute_result"
    }
   ],
   "source": [
    "function partition_function_2D(L::Int, β::Float64, J::Float64)\n",
    "    T_list, Dup_list, Ddown_list, L_list, R_list = setup_tensors_2D(L, β, J)\n",
    "    result = ITensor(true)\n",
    "    # 内部テンソルをすべて掛ける\n",
    "    for T in T_list\n",
    "        result *= T\n",
    "    end\n",
    "    # 上端\n",
    "    for T in Dup_list\n",
    "        result *= T\n",
    "    end\n",
    "    # 左端\n",
    "    for T in L_list\n",
    "        result *= T\n",
    "    end\n",
    "    # 右端\n",
    "    for T in R_list\n",
    "        result *= T\n",
    "    end\n",
    "    # 下端\n",
    "    for T in Ddown_list\n",
    "        result *= T\n",
    "    end\n",
    "    return only(result)\n",
    "end"
   ]
  },
  {
   "cell_type": "code",
   "execution_count": null,
   "id": "516a729b",
   "metadata": {},
   "outputs": [],
   "source": [
    "L = 1\n",
    "half_ind = 1\n",
    "β = 1.0\n",
    "J = 1.0\n",
    "T_list, Dup_list, Ddown_list, L_list, R_list = setup_tensors_2D(L, β, J)\n",
    "L_list_up = L_list[1:half_ind]\n",
    "L_list_down = L_list[1:half_ind]\n",
    "R_list_up = R_list[1:half_ind]\n",
    "R_list_down = R_list[half_ind+1:end]\n",
    "T_list_up = T_list[1:half_ind, 1:half_ind]\n",
    "T_list_down = T_list[half_ind+1:end, half_ind+1:end]\n",
    "\n",
    "# 上端の境界条件を\n",
    ";"
   ]
  },
  {
   "cell_type": "code",
   "execution_count": 21,
   "id": "a1722d94",
   "metadata": {},
   "outputs": [
    {
     "data": {
      "text/plain": [
       "contruct_with_boundary (generic function with 1 method)"
      ]
     },
     "execution_count": 21,
     "metadata": {},
     "output_type": "execute_result"
    }
   ],
   "source": [
    "function contruct_with_boundary(L::Int, β::Float64, J::Float64)\n",
    "    T_list, Dup_list, Ddown_list, L_list, R_list = setup_tensors_2D(L, β, J)\n",
    "    T1_list = copy(T_list) #テンソルのコピーを作成\n",
    "    # 上端の境界条件を適用\n",
    "    for (i, Ddown) in enumerate(Ddown_list)\n",
    "        T1_list[i,1] = T_list[i,1] * Ddown\n",
    "    end\n",
    "    # 左端の境界条件を適用\n",
    "    for (i, L) in enumerate(L_list)\n",
    "        ord = order(T1_list[1,i])\n",
    "        if ord == 0\n",
    "            T1_list[1,i] = T_list[1,i] * L\n",
    "        else\n",
    "            T1_list[1,i] = T1_list[1,i] * L\n",
    "        end\n",
    "    end\n",
    "    # 右端の境界条件を適用\n",
    "    for (i, Dup) in enumerate(Dup_list)\n",
    "        ord = order(T1_list[i,2*L])\n",
    "        if ord == 0\n",
    "            T1_list[i,2*L] = T_list[i,2*L] * Dup\n",
    "        else\n",
    "            T1_list[i,2*L] = T1_list[i,2*L] * Dup\n",
    "        end\n",
    "    end\n",
    "    # 下端の境界条件を適用\n",
    "    for (i, R) in enumerate(R_list)\n",
    "        ord = order(T1_list[2*L,i])\n",
    "        if ord == 0\n",
    "            T1_list[2*L,i] = T_list[2*L,i] * R\n",
    "        else\n",
    "            T1_list[2*L,i] = T1_list[2*L,i] * R\n",
    "        end\n",
    "    end\n",
    "    return T_list, T1_list\n",
    "end\n"
   ]
  },
  {
   "cell_type": "code",
   "execution_count": 22,
   "id": "ee339cd5",
   "metadata": {},
   "outputs": [
    {
     "name": "stdout",
     "output_type": "stream",
     "text": [
      "\u001b[0m\u001b[1mTest Summary:              | \u001b[22m\u001b[32m\u001b[1mPass  \u001b[22m\u001b[39m\u001b[36m\u001b[1mTotal  \u001b[22m\u001b[39m\u001b[0m\u001b[1mTime\u001b[22m\n",
      "contract_with_boundaryのテスト | \u001b[32m  65  \u001b[39m\u001b[36m   65  \u001b[39m\u001b[0m0.1s\n"
     ]
    },
    {
     "data": {
      "text/plain": [
       "Test.DefaultTestSet(\"contract_with_boundaryのテスト\", Any[], 65, false, false, true, 1.754613005633043e9, 1.754613005736237e9, false, \"In[22]\")"
      ]
     },
     "execution_count": 22,
     "metadata": {},
     "output_type": "execute_result"
    }
   ],
   "source": [
    "@testset \"contract_with_boundaryのテスト\" begin\n",
    "    L = 4\n",
    "    β = 1.0\n",
    "    J = 1.0\n",
    "\n",
    "    T_list, T1_list = contruct_with_boundary(L, β, J)\n",
    "\n",
    "    @test size(T_list) == size(T1_list) == (2L, 2L)\n",
    "\n",
    "    for i in 1:2L, j in 1:2L\n",
    "        inds_orig = Set(inds(T_list[i,j]))\n",
    "        inds_new  = Set(inds(T1_list[i,j]))\n",
    "\n",
    "        is_boundary = (i == 1 || i == 2L || j == 1 || j == 2L)\n",
    "\n",
    "        if is_boundary\n",
    "            @test inds_orig != inds_new  # 境界のテンソルは ind が変化しているはず\n",
    "        else\n",
    "            @test inds_orig == inds_new  # 内部のテンソルは変化していないはず\n",
    "        end\n",
    "    end\n",
    "end\n"
   ]
  },
  {
   "cell_type": "code",
   "execution_count": 96,
   "id": "d469b72f",
   "metadata": {},
   "outputs": [
    {
     "name": "stdout",
     "output_type": "stream",
     "text": [
      "size(T1_list_upper) = (2, 10)\n",
      "size(T1_list_lower) = (8, 10)\n"
     ]
    }
   ],
   "source": [
    "#上側と下側に分けて\n",
    "L = 5\n",
    "half_ind = 2\n",
    "β = 1.0\n",
    "J = 1.0\n",
    "T_list, T1_list = contruct_with_boundary(L, β, J)\n",
    "T1_list_upper = T1_list[1:half_ind,:]\n",
    "T1_list_lower = T1_list[half_ind+1:end,:]\n",
    "@show size(T1_list_upper)\n",
    "@show size(T1_list_lower)\n",
    ";"
   ]
  },
  {
   "cell_type": "code",
   "execution_count": 98,
   "id": "91b2d979",
   "metadata": {},
   "outputs": [
    {
     "data": {
      "text/plain": [
       "ITensor ord=10 (dim=2|id=320|\"i=3,j=1,s\") (dim=2|id=644|\"i=3,j=2,s\") (dim=2|id=418|\"i=3,j=3,s\") (dim=2|id=929|\"i=3,j=4,s\") (dim=2|id=742|\"i=3,j=5,s\") (dim=2|id=184|\"i=3,j=6,s\") (dim=2|id=206|\"i=3,j=7,s\") (dim=2|id=97|\"i=3,j=8,s\") (dim=2|id=595|\"i=3,j=9,s\") (dim=2|id=29|\"i=3,j=10,s\")\n",
       "NDTensors.Dense{Float64, Vector{Float64}}"
      ]
     },
     "execution_count": 98,
     "metadata": {},
     "output_type": "execute_result"
    }
   ],
   "source": [
    "#期待値計算\n",
    "result_upper = ITensor(true)\n",
    "result_lower = ITensor(true)\n",
    "for T in T1_list_upper\n",
    "    result_upper *= T\n",
    "end\n",
    "for T in T1_list_lower\n",
    "    result_lower *= T\n",
    "end\n",
    "result_upper\n",
    "result_lower"
   ]
  },
  {
   "cell_type": "code",
   "execution_count": 99,
   "id": "464f7c3e",
   "metadata": {},
   "outputs": [
    {
     "name": "stdout",
     "output_type": "stream",
     "text": [
      "Index 1: (dim=2|id=320|\"i=3,j=1,s\")\n",
      "Index 2: (dim=2|id=644|\"i=3,j=2,s\")\n",
      "Index 3: (dim=2|id=418|\"i=3,j=3,s\")\n",
      "Index 4: (dim=2|id=929|\"i=3,j=4,s\")\n",
      "Index 5: (dim=2|id=742|\"i=3,j=5,s\")\n",
      "Index 6: (dim=2|id=184|\"i=3,j=6,s\")\n",
      "Index 7: (dim=2|id=206|\"i=3,j=7,s\")\n",
      "Index 8: (dim=2|id=97|\"i=3,j=8,s\")\n",
      "Index 9: (dim=2|id=595|\"i=3,j=9,s\")\n",
      "Index 10: (dim=2|id=29|\"i=3,j=10,s\")\n"
     ]
    }
   ],
   "source": [
    "# 例: inds(T) で全Index取得\n",
    "for (n, ind) in enumerate(inds(result_upper))\n",
    "    println(\"Index $n: \", ind)\n",
    "end"
   ]
  },
  {
   "cell_type": "code",
   "execution_count": 100,
   "id": "f667ba66",
   "metadata": {},
   "outputs": [
    {
     "name": "stdout",
     "output_type": "stream",
     "text": [
      "target = findfirst((ind->begin\n",
      "                #= In[100]:2 =#\n",
      "                hastags(ind, \"i=3,j=2,s\")\n",
      "            end), inds(result_upper)) = 2\n",
      "myind = (inds(result_upper))[target] = (dim=2|id=644|\"i=3,j=2,s\")\n"
     ]
    },
    {
     "data": {
      "text/plain": [
       "ITensor ord=10 (dim=2|id=320|\"i=3,j=1,s\") (dim=2|id=644|\"prev\") (dim=2|id=418|\"i=3,j=3,s\") (dim=2|id=929|\"i=3,j=4,s\") (dim=2|id=742|\"i=3,j=5,s\") (dim=2|id=184|\"i=3,j=6,s\") (dim=2|id=206|\"i=3,j=7,s\") (dim=2|id=97|\"i=3,j=8,s\") (dim=2|id=595|\"i=3,j=9,s\") (dim=2|id=29|\"i=3,j=10,s\")\n",
       "NDTensors.Dense{Float64, Vector{Float64}}"
      ]
     },
     "execution_count": 100,
     "metadata": {},
     "output_type": "execute_result"
    }
   ],
   "source": [
    "# タグで取り出す場合\n",
    "@show target = findfirst(ind -> hastags(ind, \"i=3,j=2,s\"), inds(result_upper))\n",
    "@show myind = inds(result_upper)[target]\n",
    "newind = settags(myind, \"prev\")  # タグを \"prev\" に変更\n",
    "T2 = replaceind(result_upper, myind, newind)"
   ]
  },
  {
   "cell_type": "code",
   "execution_count": null,
   "id": "6c86e698",
   "metadata": {},
   "outputs": [],
   "source": [
    "T1_list_upper = T1_list[1:half_ind,:]\n",
    "T1_list_lower = T1_list[half_ind+1:end,:]"
   ]
  },
  {
   "cell_type": "code",
   "execution_count": 101,
   "id": "82344102",
   "metadata": {},
   "outputs": [
    {
     "data": {
      "text/plain": [
       "replace_tag_ITensor (generic function with 1 method)"
      ]
     },
     "execution_count": 101,
     "metadata": {},
     "output_type": "execute_result"
    }
   ],
   "source": [
    "#targetのtagを貼り替える関数\n",
    "function replace_tag_ITensor(T::ITensor, tag::String)\n",
    "    target = findfirst(ind -> hastags(ind, \"$tag\"), inds(T))\n",
    "    myind = inds(T)[target]\n",
    "    newind = prime(myind)\n",
    "    #newind = settags(myind, \"prev\") \n",
    "    T2 = replaceind(T, myind, newind)\n",
    "    return T2, newind\n",
    "end\n"
   ]
  },
  {
   "cell_type": "code",
   "execution_count": 102,
   "id": "b7eb7847",
   "metadata": {},
   "outputs": [
    {
     "data": {
      "text/plain": [
       "ITensor ord=10 (dim=2|id=320|\"i=3,j=1,s\") (dim=2|id=418|\"i=3,j=3,s\") (dim=2|id=929|\"i=3,j=4,s\") (dim=2|id=742|\"i=3,j=5,s\") (dim=2|id=184|\"i=3,j=6,s\") (dim=2|id=206|\"i=3,j=7,s\") (dim=2|id=97|\"i=3,j=8,s\") (dim=2|id=595|\"i=3,j=9,s\") (dim=2|id=29|\"i=3,j=10,s\") (dim=2|id=644|\"i=3,j=2,s\")\n",
       "NDTensors.Dense{Float64, Vector{Float64}}"
      ]
     },
     "execution_count": 102,
     "metadata": {},
     "output_type": "execute_result"
    }
   ],
   "source": [
    "target = findfirst(ind -> hastags(ind, \"i=3,j=2,s\"), inds(result_upper))\n",
    "myind = inds(result_upper)[target]\n",
    "T2, newind = replace_tag_ITensor(result_upper, \"i=3,j=2,s\")\n",
    "σ_tensor = CTMRG.spin_tensor(myind, newind)\n",
    "σ = T2 * σ_tensor "
   ]
  },
  {
   "cell_type": "code",
   "execution_count": 106,
   "id": "aa3313a4",
   "metadata": {},
   "outputs": [
    {
     "data": {
      "text/plain": [
       "calc_spontaneous_magnetization (generic function with 1 method)"
      ]
     },
     "execution_count": 106,
     "metadata": {},
     "output_type": "execute_result"
    }
   ],
   "source": [
    "#自発磁化を計算する関数\n",
    "function calc_spontaneous_magnetization(L::Int, β::Float64, J::Float64\n",
    "    ,tag::String)\n",
    "    Z = partition_function_2D(L, β, J)\n",
    "    T_list, T1_list = contruct_with_boundary(L, β, J)\n",
    "    # 上側と下側に分ける\n",
    "    result_upper = ITensor(true)\n",
    "    result_lower = ITensor(true)\n",
    "    for T in T1_list[1:L,:]\n",
    "        result_upper *= T\n",
    "    end\n",
    "    for T in T1_list[L+1:end,:]\n",
    "        result_lower *= T\n",
    "    end\n",
    "    target = findfirst(ind -> hastags(ind, \"$tag\"), inds(result_upper))\n",
    "    myind = inds(result_upper)[target]\n",
    "    T2, newind = replace_tag_ITensor(result_upper, \"$tag\")\n",
    "    σ_tensor = CTMRG.spin_tensor(myind, newind)\n",
    "    σ = T2 * σ_tensor \n",
    "    return only(result_lower * σ) / Z\n",
    "end"
   ]
  },
  {
   "cell_type": "code",
   "execution_count": 110,
   "id": "2be12004",
   "metadata": {},
   "outputs": [
    {
     "data": {
      "text/plain": [
       "0.9992757522241872"
      ]
     },
     "execution_count": 110,
     "metadata": {},
     "output_type": "execute_result"
    }
   ],
   "source": [
    "L = 3\n",
    "β = 1.0\n",
    "J = 1.0\n",
    "calc_spontaneous_magnetization(L, β, J,\"i=$(L+1),j=$L,s\")"
   ]
  },
  {
   "cell_type": "code",
   "execution_count": 111,
   "id": "5d697a81",
   "metadata": {},
   "outputs": [
    {
     "data": {
      "text/plain": [
       "calc_spin_correlation (generic function with 1 method)"
      ]
     },
     "execution_count": 111,
     "metadata": {},
     "output_type": "execute_result"
    }
   ],
   "source": [
    "function calc_spin_correlation(L::Int, β::Float64, J::Float64,\n",
    "    tag1::String, tag2::String)\n",
    "    Z = partition_function_2D(L, β, J)\n",
    "    T_list, T1_list = contruct_with_boundary(L, β, J)\n",
    "    # 上側と下側に分ける\n",
    "    result_upper = ITensor(true)\n",
    "    result_lower = ITensor(true)\n",
    "    for T in T1_list[1:L,:]\n",
    "        result_upper *= T\n",
    "    end\n",
    "    for T in T1_list[L+1:end,:]\n",
    "        result_lower *= T\n",
    "    end\n",
    "    target1 = findfirst(ind -> hastags(ind, \"$tag1\"), inds(result_upper))\n",
    "    myind1 = inds(result_upper)[target1]\n",
    "    target2 = findfirst(ind -> hastags(ind, \"$tag2\"), inds(result_upper))\n",
    "    myind2 = inds(result_upper)[target2]\n",
    "    T2_1, newind1 = replace_tag_ITensor(result_upper, \"$tag1\")\n",
    "    T2_2, newind2 = replace_tag_ITensor(T2_1, \"$tag2\")\n",
    "    σ_tensor_1 = CTMRG.spin_tensor(myind1, newind1)\n",
    "    σ_tensor_2 = CTMRG.spin_tensor(myind2, newind2)\n",
    "\n",
    "    σσ = T2_2 * σ_tensor_1 * σ_tensor_2 \n",
    "    return only(result_lower * σσ) / Z\n",
    "end"
   ]
  },
  {
   "cell_type": "code",
   "execution_count": 115,
   "id": "b919feff",
   "metadata": {},
   "outputs": [
    {
     "ename": "",
     "evalue": "",
     "output_type": "error",
     "traceback": [
      "\u001b[1;31m現在のセルまたは前のセルでコードを実行中に、カーネル (Kernel) がクラッシュしました。\n",
      "\u001b[1;31mエラーの原因を特定するには、セル内のコードを確認してください。\n",
      "\u001b[1;31m詳細については<a href='https://aka.ms/vscodeJupyterKernelCrash'>こちら</a>をクリックします。\n",
      "\u001b[1;31m詳細については、Jupyter <a href='command:jupyter.viewOutput'>ログ</a> を参照してください。"
     ]
    }
   ],
   "source": [
    "L = 4\n",
    "β = 1.0\n",
    "J = 1.0\n",
    "calc_spin_correlation(L, β, J,\"i=$(L+1),j=$L,s\",\"i=$(L+1),j=$(L+1),s\")"
   ]
  },
  {
   "cell_type": "code",
   "execution_count": 95,
   "id": "812480f5",
   "metadata": {},
   "outputs": [
    {
     "data": {
      "text/plain": [
       "0.9992758286497886"
      ]
     },
     "execution_count": 95,
     "metadata": {},
     "output_type": "execute_result"
    }
   ],
   "source": [
    "only(result_lower * σ)/ Z\n"
   ]
  },
  {
   "cell_type": "code",
   "execution_count": 22,
   "id": "3bb7230d",
   "metadata": {},
   "outputs": [
    {
     "data": {
      "text/plain": [
       "4×4 Matrix{ITensor}:\n",
       " ITensor ord=4\n",
       "Dim 1: (dim=2|id=47|\"i=1,j=1,σ\")\n",
       "Dim 2: (dim=2|id=137|\"i=1,j=2,σ\")\n",
       "Dim 3: (dim=2|id=130|\"i=1,j=1,s\")\n",
       "Dim 4: (dim=2|id=550|\"i=2,j=1,s\")\n",
       "Dense{Float64, Vector{Float64}}\n",
       " 2×2×2×2\n",
       "[:, :, 1, 1] =\n",
       " 54.5982  1.0\n",
       "  1.0     0.0183156\n",
       "\n",
       "[:, :, 2, 1] =\n",
       " 1.0  1.0\n",
       " 1.0  1.0\n",
       "\n",
       "[:, :, 1, 2] =\n",
       " 1.0  1.0\n",
       " 1.0  1.0\n",
       "\n",
       "[:, :, 2, 2] =\n",
       " 0.0183156   1.0\n",
       " 1.0        54.5982   …  ITensor ord=4\n",
       "Dim 1: (dim=2|id=187|\"i=1,j=4,σ\")\n",
       "Dim 2: (dim=2|id=57|\"i=1,j=5,σ\")\n",
       "Dim 3: (dim=2|id=591|\"i=1,j=4,s\")\n",
       "Dim 4: (dim=2|id=104|\"i=2,j=4,s\")\n",
       "Dense{Float64, Vector{Float64}}\n",
       " 2×2×2×2\n",
       "[:, :, 1, 1] =\n",
       " 54.5982  1.0\n",
       "  1.0     0.0183156\n",
       "\n",
       "[:, :, 2, 1] =\n",
       " 1.0  1.0\n",
       " 1.0  1.0\n",
       "\n",
       "[:, :, 1, 2] =\n",
       " 1.0  1.0\n",
       " 1.0  1.0\n",
       "\n",
       "[:, :, 2, 2] =\n",
       " 0.0183156   1.0\n",
       " 1.0        54.5982\n",
       " ITensor ord=4\n",
       "Dim 1: (dim=2|id=63|\"i=2,j=1,σ\")\n",
       "Dim 2: (dim=2|id=445|\"i=2,j=2,σ\")\n",
       "Dim 3: (dim=2|id=550|\"i=2,j=1,s\")\n",
       "Dim 4: (dim=2|id=895|\"i=3,j=1,s\")\n",
       "Dense{Float64, Vector{Float64}}\n",
       " 2×2×2×2\n",
       "[:, :, 1, 1] =\n",
       " 54.5982  1.0\n",
       "  1.0     0.0183156\n",
       "\n",
       "[:, :, 2, 1] =\n",
       " 1.0  1.0\n",
       " 1.0  1.0\n",
       "\n",
       "[:, :, 1, 2] =\n",
       " 1.0  1.0\n",
       " 1.0  1.0\n",
       "\n",
       "[:, :, 2, 2] =\n",
       " 0.0183156   1.0\n",
       " 1.0        54.5982      ITensor ord=4\n",
       "Dim 1: (dim=2|id=163|\"i=2,j=4,σ\")\n",
       "Dim 2: (dim=2|id=219|\"i=2,j=5,σ\")\n",
       "Dim 3: (dim=2|id=104|\"i=2,j=4,s\")\n",
       "Dim 4: (dim=2|id=924|\"i=3,j=4,s\")\n",
       "Dense{Float64, Vector{Float64}}\n",
       " 2×2×2×2\n",
       "[:, :, 1, 1] =\n",
       " 54.5982  1.0\n",
       "  1.0     0.0183156\n",
       "\n",
       "[:, :, 2, 1] =\n",
       " 1.0  1.0\n",
       " 1.0  1.0\n",
       "\n",
       "[:, :, 1, 2] =\n",
       " 1.0  1.0\n",
       " 1.0  1.0\n",
       "\n",
       "[:, :, 2, 2] =\n",
       " 0.0183156   1.0\n",
       " 1.0        54.5982\n",
       " ITensor ord=4\n",
       "Dim 1: (dim=2|id=573|\"i=3,j=1,σ\")\n",
       "Dim 2: (dim=2|id=392|\"i=3,j=2,σ\")\n",
       "Dim 3: (dim=2|id=895|\"i=3,j=1,s\")\n",
       "Dim 4: (dim=2|id=855|\"i=4,j=1,s\")\n",
       "Dense{Float64, Vector{Float64}}\n",
       " 2×2×2×2\n",
       "[:, :, 1, 1] =\n",
       " 54.5982  1.0\n",
       "  1.0     0.0183156\n",
       "\n",
       "[:, :, 2, 1] =\n",
       " 1.0  1.0\n",
       " 1.0  1.0\n",
       "\n",
       "[:, :, 1, 2] =\n",
       " 1.0  1.0\n",
       " 1.0  1.0\n",
       "\n",
       "[:, :, 2, 2] =\n",
       " 0.0183156   1.0\n",
       " 1.0        54.5982     ITensor ord=4\n",
       "Dim 1: (dim=2|id=640|\"i=3,j=4,σ\")\n",
       "Dim 2: (dim=2|id=137|\"i=3,j=5,σ\")\n",
       "Dim 3: (dim=2|id=924|\"i=3,j=4,s\")\n",
       "Dim 4: (dim=2|id=235|\"i=4,j=4,s\")\n",
       "Dense{Float64, Vector{Float64}}\n",
       " 2×2×2×2\n",
       "[:, :, 1, 1] =\n",
       " 54.5982  1.0\n",
       "  1.0     0.0183156\n",
       "\n",
       "[:, :, 2, 1] =\n",
       " 1.0  1.0\n",
       " 1.0  1.0\n",
       "\n",
       "[:, :, 1, 2] =\n",
       " 1.0  1.0\n",
       " 1.0  1.0\n",
       "\n",
       "[:, :, 2, 2] =\n",
       " 0.0183156   1.0\n",
       " 1.0        54.5982\n",
       " ITensor ord=4\n",
       "Dim 1: (dim=2|id=661|\"i=4,j=1,σ\")\n",
       "Dim 2: (dim=2|id=801|\"i=4,j=2,σ\")\n",
       "Dim 3: (dim=2|id=855|\"i=4,j=1,s\")\n",
       "Dim 4: (dim=2|id=431|\"i=5,j=1,s\")\n",
       "Dense{Float64, Vector{Float64}}\n",
       " 2×2×2×2\n",
       "[:, :, 1, 1] =\n",
       " 54.5982  1.0\n",
       "  1.0     0.0183156\n",
       "\n",
       "[:, :, 2, 1] =\n",
       " 1.0  1.0\n",
       " 1.0  1.0\n",
       "\n",
       "[:, :, 1, 2] =\n",
       " 1.0  1.0\n",
       " 1.0  1.0\n",
       "\n",
       "[:, :, 2, 2] =\n",
       " 0.0183156   1.0\n",
       " 1.0        54.5982     ITensor ord=4\n",
       "Dim 1: (dim=2|id=122|\"i=4,j=4,σ\")\n",
       "Dim 2: (dim=2|id=860|\"i=4,j=5,σ\")\n",
       "Dim 3: (dim=2|id=235|\"i=4,j=4,s\")\n",
       "Dim 4: (dim=2|id=245|\"i=5,j=4,s\")\n",
       "Dense{Float64, Vector{Float64}}\n",
       " 2×2×2×2\n",
       "[:, :, 1, 1] =\n",
       " 54.5982  1.0\n",
       "  1.0     0.0183156\n",
       "\n",
       "[:, :, 2, 1] =\n",
       " 1.0  1.0\n",
       " 1.0  1.0\n",
       "\n",
       "[:, :, 1, 2] =\n",
       " 1.0  1.0\n",
       " 1.0  1.0\n",
       "\n",
       "[:, :, 2, 2] =\n",
       " 0.0183156   1.0\n",
       " 1.0        54.5982"
      ]
     },
     "execution_count": 22,
     "metadata": {},
     "output_type": "execute_result"
    }
   ],
   "source": [
    "T_list[1:4, 1:4]"
   ]
  }
 ],
 "metadata": {
  "kernelspec": {
   "display_name": "Julia 1.11.5",
   "language": "julia",
   "name": "julia-1.11"
  },
  "language_info": {
   "file_extension": ".jl",
   "mimetype": "application/julia",
   "name": "julia",
   "version": "1.11.5"
  }
 },
 "nbformat": 4,
 "nbformat_minor": 5
}

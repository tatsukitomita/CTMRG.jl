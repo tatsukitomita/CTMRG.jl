{
 "cells": [
  {
   "cell_type": "code",
   "execution_count": 39,
   "id": "900d149b",
   "metadata": {},
   "outputs": [],
   "source": [
    "using Revise\n",
    "using Test"
   ]
  },
  {
   "cell_type": "code",
   "execution_count": 40,
   "id": "20b4a1a0",
   "metadata": {},
   "outputs": [],
   "source": [
    "using LinearAlgebra\n",
    "using ITensors\n",
    "import CTMRG"
   ]
  },
  {
   "cell_type": "code",
   "execution_count": 41,
   "id": "785c9da8",
   "metadata": {},
   "outputs": [],
   "source": [
    "ITensors.disable_warn_order()"
   ]
  },
  {
   "cell_type": "code",
   "execution_count": 42,
   "id": "e2bb42f9",
   "metadata": {},
   "outputs": [
    {
     "data": {
      "text/plain": [
       "3×4 Matrix{Index}:\n",
       " (dim=2|id=570|\"i=1,j=1,σ\")  …  (dim=2|id=375|\"i=1,j=4,σ\")\n",
       " (dim=2|id=409|\"i=2,j=1,σ\")     (dim=2|id=504|\"i=2,j=4,σ\")\n",
       " (dim=2|id=664|\"i=3,j=1,σ\")     (dim=2|id=652|\"i=3,j=4,σ\")"
      ]
     },
     "execution_count": 42,
     "metadata": {},
     "output_type": "execute_result"
    }
   ],
   "source": [
    "L = 2\n",
    "stag_list = CTMRG.make_CTMRG_ind_stags(L)\n",
    "σtag_list = CTMRG.make_CTMRG_ind_σtags(L)"
   ]
  },
  {
   "cell_type": "code",
   "execution_count": 43,
   "id": "052bdece",
   "metadata": {},
   "outputs": [
    {
     "data": {
      "text/plain": [
       "diag_coner_tensor (generic function with 1 method)"
      ]
     },
     "execution_count": 43,
     "metadata": {},
     "output_type": "execute_result"
    }
   ],
   "source": [
    "#左下のみとりあえず関数を作成/1loop目は特殊処理\n",
    "function setup_leftdown_corner_first(β::Float64, J::Float64,\n",
    "    σindlist::Matrix{Index},sindlist::Matrix{Index})\n",
    "    cindσ = combiner(σindlist[2, 1], σindlist[2, 2], tags=\"σ_all\")\n",
    "    cinds = combiner(sindlist[1, 2], sindlist[2, 2], tags=\"s_all\")\n",
    "    #2脚テンソルの定義\n",
    "    C = CTMRG.C_corner(β, J, σindlist[1, 1], sindlist[1, 1])\n",
    "    #3脚テンソルの定義\n",
    "    P_edge = CTMRG.P_edge(β, J, σindlist[1, 1], σindlist[2, 1], sindlist[2, 1])\n",
    "    P_corner = CTMRG.P_corner(β, J, σindlist[1, 2], sindlist[1, 1], sindlist[1, 2])\n",
    "    #4脚テンソルの定義\n",
    "    W =  CTMRG.ising_transfer_tensor_2D(β, J, σindlist[1, 2], σindlist[2, 2], sindlist[2, 1], sindlist[2, 2])\n",
    "    #縮約\n",
    "    _P_edge = P_edge * W\n",
    "    C_expand = P_corner * C * _P_edge\n",
    "    return C_expand,cindσ, cinds\n",
    "end\n",
    "#対角化した関数を作成\n",
    "function diag_coner_tensor(C_expand::ITensor,cindσ::ITensor,\n",
    "    cinds::ITensor)\n",
    "    _C_expand = C_expand * cindσ * cinds\n",
    "    C_array = array(_C_expand)\n",
    "    evals, evecs = eigen(C_array)\n",
    "    Λ, A, iA = CTMRG.make_diag_Tesnor(evals, evecs, inds(cindσ)[1], inds(cinds)[1])\n",
    "    return Λ, A, iA\n",
    "end\n"
   ]
  },
  {
   "cell_type": "code",
   "execution_count": 44,
   "id": "f3dd6f3a",
   "metadata": {},
   "outputs": [
    {
     "data": {
      "text/plain": [
       "setup_rightdown_corner_first (generic function with 1 method)"
      ]
     },
     "execution_count": 44,
     "metadata": {},
     "output_type": "execute_result"
    }
   ],
   "source": [
    "#左上を作成\n",
    "function setup_leftup_corner_first(β::Float64, J::Float64,\n",
    "    σindlist::Matrix{Index},sindlist::Matrix{Index})\n",
    "    cindσ = combiner(σindlist[2, 1], σindlist[2, 2], tags=\"σ_all\")\n",
    "    cinds = combiner(sindlist[3, 2], sindlist[4, 2], tags=\"s_all\")\n",
    "    #2脚テンソルの定義\n",
    "    C = CTMRG.C_corner(β, J, σindlist[3, 1], sindlist[4, 1])\n",
    "    #3脚テンソルの定義\n",
    "    P_edge = CTMRG.P_edge(β, J, σindlist[3, 1], σindlist[2, 1], sindlist[3, 1])\n",
    "    P_corner = CTMRG.P_corner(β, J, σindlist[3, 2], sindlist[4, 1], sindlist[4, 2])\n",
    "    #4脚テンソルの定義\n",
    "    W =  CTMRG.ising_transfer_tensor_2D(β, J, σindlist[3, 2], σindlist[2, 2], sindlist[3, 1], sindlist[3, 2])\n",
    "    #縮約\n",
    "    _P_edge = P_edge * W\n",
    "    C_expand = P_corner * C * _P_edge\n",
    "    return C_expand, cindσ, cinds\n",
    "end\n",
    "#右上を作成\n",
    "function setup_rightup_corner_first(β::Float64, J::Float64,\n",
    "    σindlist::Matrix{Index},sindlist::Matrix{Index})\n",
    "    cindσ = combiner(σindlist[2, 3], σindlist[2, 4], tags=\"σ_all\")\n",
    "    cinds = combiner(sindlist[3, 2], sindlist[4, 2], tags=\"s_all\")\n",
    "    #2脚テンソルの定義\n",
    "    C = CTMRG.C_corner(β, J, σindlist[3, 4], sindlist[4, 3])\n",
    "    #3脚テンソルの定義\n",
    "    P_edge = CTMRG.P_edge(β, J, σindlist[3, 4], σindlist[2, 4], sindlist[3, 3])\n",
    "    P_corner = CTMRG.P_corner(β, J, σindlist[3, 3], sindlist[4, 2], sindlist[4, 3])\n",
    "    #4脚テンソルの定義\n",
    "    W =  CTMRG.ising_transfer_tensor_2D(β, J, σindlist[2, 3], σindlist[3, 3], sindlist[3, 2], sindlist[3, 3])\n",
    "    #縮約\n",
    "    _P_edge = P_edge * W\n",
    "    C_expand = P_corner * C * _P_edge\n",
    "    return C_expand, cindσ, cinds\n",
    "end\n",
    "#右下を作成\n",
    "function setup_rightdown_corner_first(β::Float64, J::Float64,\n",
    "    σindlist::Matrix{Index},sindlist::Matrix{Index})\n",
    "    cindσ = combiner(σindlist[2, 3], σindlist[2, 4], tags=\"σ_all\")\n",
    "    cinds = combiner(sindlist[1, 2], sindlist[2, 2], tags=\"s_all\")\n",
    "    #2脚テンソルの定義\n",
    "    C = CTMRG.C_corner(β, J, σindlist[1, 4], sindlist[1, 3])\n",
    "    #3脚テンソルの定義\n",
    "    P_edge = CTMRG.P_edge(β, J, σindlist[2, 4], σindlist[1, 4], sindlist[2, 3])\n",
    "    P_corner = CTMRG.P_corner(β, J, σindlist[1, 3], sindlist[1, 2], sindlist[1, 3])\n",
    "    #4脚テンソルの定義\n",
    "    W =  CTMRG.ising_transfer_tensor_2D(β, J, σindlist[1, 3], σindlist[2, 3], sindlist[2, 2], sindlist[2, 3])\n",
    "    #縮約\n",
    "    _P_edge = P_edge * W\n",
    "    C_expand = P_corner * C * _P_edge\n",
    "    return C_expand, cindσ, cinds\n",
    "end\n"
   ]
  },
  {
   "cell_type": "code",
   "execution_count": 45,
   "id": "01e63f9f",
   "metadata": {},
   "outputs": [
    {
     "name": "stdout",
     "output_type": "stream",
     "text": [
      "only(C1 * C2 * C3 * C4) = 6.28697727090268e27\n",
      "CTMRG.partition_function_2D(2, 1.0, 1.0) = 6.286977270902691e27\n"
     ]
    }
   ],
   "source": [
    "C1,_,_ = setup_leftdown_corner_first(1.0, 1.0, σtag_list, stag_list)\n",
    "C2,_,_ = setup_leftup_corner_first(1.0, 1.0, σtag_list, stag_list)\n",
    "C3,_,_ = setup_rightup_corner_first(1.0, 1.0, σtag_list, stag_list)\n",
    "C4,_,_ = setup_rightdown_corner_first(1.0, 1.0, σtag_list, stag_list)\n",
    "@show only(C1*C2* C3*C4)\n",
    "@show CTMRG.partition_function_2D(2, 1.0, 1.0)\n",
    ";"
   ]
  },
  {
   "cell_type": "markdown",
   "id": "aa8f1665",
   "metadata": {},
   "source": [
    "$$ 環境テンソルの作成"
   ]
  },
  {
   "cell_type": "code",
   "execution_count": 46,
   "id": "e1e0da04",
   "metadata": {},
   "outputs": [
    {
     "name": "stdout",
     "output_type": "stream",
     "text": [
      "typeof((inds(σ_all1))[2:end]) = Tuple{Index{Int64}, Index{Int64}}\n"
     ]
    }
   ],
   "source": [
    "C1,σ_all1,s_all1 = setup_leftdown_corner_first(1.0, 1.0, σtag_list, stag_list)\n",
    "C2,σ_all2,s_all2  = setup_leftup_corner_first(1.0, 1.0, σtag_list, stag_list)\n",
    "@show typeof(inds(σ_all1)[2:end])\n",
    "indσlist1 = collect(inds(σ_all1)[2:end])\n",
    "indσlist2 = collect(inds(σ_all2)[2:end])\n",
    ";"
   ]
  },
  {
   "cell_type": "code",
   "execution_count": null,
   "id": "56f79da3",
   "metadata": {},
   "outputs": [
    {
     "data": {
      "text/plain": [
       "σ_edge_tensor (generic function with 1 method)"
      ]
     },
     "execution_count": 47,
     "metadata": {},
     "output_type": "execute_result"
    }
   ],
   "source": [
    "#L+1にするテンソルの作成\n",
    "function σ_edge_tensor_left(β::Float64, J::Float64,\n",
    "    σindlist_up::Vector{Index{Int64}},σindlist_down::Vector{Index{Int64}},\n",
    "    indname::String)\n",
    "    Tlist = []\n",
    "    ind = Index(2, \"$indname\")\n",
    "    sdumyind_list = [Index(2, \"dummy,$i\") for i in 1:length(σindlist_up)-1]\n",
    "    if σindlist_down[1] == σindlist_up[1]\n",
    "        _σindlist_down = [prime(σindlist_down[i]) for i in 1:length(σindlist_down)]\n",
    "    else\n",
    "        _σindlist_down = σindlist_down\n",
    "    end\n",
    "\n",
    "    for i in 1:length(σindlist_up)\n",
    "        if i == 1\n",
    "            T1 = CTMRG.P_edge(β, J, σindlist_up[1], _σindlist_down[1], sdumyind_list[1])\n",
    "            push!(Tlist, T1)\n",
    "        elseif i == length(σindlist_up)\n",
    "            T1 = CTMRG.ising_transfer_tensor_2D(β, J, σindlist_up[i], _σindlist_down[i], sdumyind_list[i-1],ind)\n",
    "            push!(Tlist, T1)\n",
    "        else\n",
    "            T1 = CTMRG.ising_transfer_tensor_2D(β, J, σindlist_up[i], _σindlist_down[i], sdumyind_list[i-1], sdummyind_list[i])\n",
    "            push!(Tlist, T1)\n",
    "        end\n",
    "    end\n",
    "    result = ITensor(true)\n",
    "    for T in Tlist\n",
    "        result *= T\n",
    "    end\n",
    "    return result, ind, _σindlist_down\n",
    "end\n",
    "function σ_edge_tensor_right(β::Float64, J::Float64,\n",
    "    σindlist_up::Vector{Index{Int64}},σindlist_down::Vector{Index{Int64}},\n",
    "    indname::String)\n",
    "    Tlist = []\n",
    "    ind = Index(2, \"$indname\")\n",
    "    sdumyind_list = [Index(2, \"dummy,$i\") for i in 1:length(σindlist_up)-1]\n",
    "    if σindlist_down[1] == σindlist_up[1]\n",
    "        _σindlist_down = [prime(σindlist_down[i]) for i in 1:length(σindlist_down)]\n",
    "    else\n",
    "        _σindlist_down = σindlist_down\n",
    "    end\n",
    "\n",
    "    for i in 1:length(σindlist_up)\n",
    "        if i == 1\n",
    "            T1 = CTMRG.ising_transfer_tensor_2D(β, J, σindlist_up[1], _σindlist_down[1], sdumyind_list[i+1],ind)\n",
    "            push!(Tlist, T1)\n",
    "        elseif i == length(σindlist_up)\n",
    "            T1 = CTMRG.P_edge(β, J, σindlist_up[i], _σindlist_down[i], sdumyind_list[i])\n",
    "            push!(Tlist, T1)\n",
    "        else\n",
    "            T1 = CTMRG.ising_transfer_tensor_2D(β, J, σindlist_up[i], _σindlist_down[i], sdumyind_list[i-1], sdummyind_list[i])\n",
    "            push!(Tlist, T1)\n",
    "        end\n",
    "    end\n",
    "    result = ITensor(true)\n",
    "    for T in Tlist\n",
    "        result *= T\n",
    "    end\n",
    "    return result, ind, _σindlist_down\n",
    "end\n"
   ]
  },
  {
   "cell_type": "code",
   "execution_count": null,
   "id": "de7b63af",
   "metadata": {},
   "outputs": [],
   "source": [
    "T, ind1, _σind_list = σ_edge_tensor(1.0, 1.0, indσlist1, indσlist2,\"α\")\n",
    "T1 = T * σ_all1\n",
    "_T1 = replaceinds(T1, Tuple(_σind_list)  => indσlist2) * σ_all2\n",
    ";"
   ]
  },
  {
   "cell_type": "code",
   "execution_count": null,
   "id": "3a8419f9",
   "metadata": {},
   "outputs": [],
   "source": [
    "function s_edge_tensor(β::Float64, J::Float64,\n",
    "    sindlist_up::Vector{Index{Int64}},sindlist_down::Vector{Index{Int64}},\n",
    "    indname::String)\n",
    "    Tlist = []\n",
    "    ind = Index(2, \"$indname\")\n",
    "    σdumyind_list = [Index(2, \"dummy,$i\") for i in 1:length(sindlist_up)-1]\n",
    "    if sindlist_down[1] == sindlist_up[1]\n",
    "        _sindlist_down = [prime(sindlist_down[i]) for i in 1:length(sindlist_down)]\n",
    "    else\n",
    "        _sindlist_down = sindlist_down\n",
    "    end\n",
    "\n",
    "    for i in 1:length(sindlist_up)\n",
    "        if i == 1\n",
    "            T1 = CTMRG.P_edge(β, J, sindlist_up[1], _sindlist_down[1], sdumyind_list[1])\n",
    "            push!(Tlist, T1)\n",
    "        elseif i == length(sindlist_up)\n",
    "            T1 = CTMRG.ising_transfer_tensor_2D(β, J, sindlist_up[i], _sindlist_down[i], sdumyind_list[i-1], ind)\n",
    "            push!(Tlist, T1)\n",
    "        else\n",
    "            T1 = CTMRG.ising_transfer_tensor_2D(β, J, sindlist_up[i], _sindlist_down[i], sdumyind_list[i-1], sdumyind_list[i])\n",
    "            push!(Tlist, T1)\n",
    "        end\n",
    "    end\n",
    "    result = ITensor(true)\n",
    "    for T in Tlist\n",
    "        result *= T\n",
    "    end\n",
    "    return result, ind, _sindlist_down\n",
    "end"
   ]
  },
  {
   "cell_type": "code",
   "execution_count": null,
   "id": "8677fcd5",
   "metadata": {},
   "outputs": [],
   "source": []
  },
  {
   "cell_type": "code",
   "execution_count": null,
   "id": "2b61cd31",
   "metadata": {},
   "outputs": [],
   "source": []
  },
  {
   "cell_type": "code",
   "execution_count": null,
   "id": "cb142f70",
   "metadata": {},
   "outputs": [],
   "source": [
    "combiner(σindlist[2, 3], σindlist[2, 4], tags=\"σ_all\")"
   ]
  },
  {
   "cell_type": "code",
   "execution_count": null,
   "id": "1ad3630e",
   "metadata": {},
   "outputs": [
    {
     "data": {
      "text/plain": [
       "ITensor ord=3 (dim=4|id=42|\"σ_all\") (dim=2|id=479|\"i=2,j=1,σ\") (dim=2|id=692|\"i=2,j=2,σ\")\n",
       "NDTensors.Combiner"
      ]
     },
     "execution_count": 13,
     "metadata": {},
     "output_type": "execute_result"
    }
   ],
   "source": [
    "σ_all1"
   ]
  },
  {
   "cell_type": "code",
   "execution_count": null,
   "id": "c606fcc9",
   "metadata": {},
   "outputs": [],
   "source": [
    "T1 = T * σ_all1"
   ]
  }
 ],
 "metadata": {
  "kernelspec": {
   "display_name": "Julia 1.11.5",
   "language": "julia",
   "name": "julia-1.11"
  },
  "language_info": {
   "file_extension": ".jl",
   "mimetype": "application/julia",
   "name": "julia",
   "version": "1.11.5"
  }
 },
 "nbformat": 4,
 "nbformat_minor": 5
}

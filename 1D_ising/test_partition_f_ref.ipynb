{
 "cells": [
  {
   "cell_type": "code",
   "execution_count": 1,
   "id": "84744323",
   "metadata": {},
   "outputs": [],
   "source": [
    "using Revise"
   ]
  },
  {
   "cell_type": "code",
   "execution_count": 2,
   "id": "126e73a6",
   "metadata": {},
   "outputs": [],
   "source": [
    "using ITensors\n",
    "using Test"
   ]
  },
  {
   "cell_type": "code",
   "execution_count": 3,
   "id": "aeaf9a45",
   "metadata": {},
   "outputs": [
    {
     "data": {
      "text/plain": [
       "ising_element_1D (generic function with 1 method)"
      ]
     },
     "execution_count": 3,
     "metadata": {},
     "output_type": "execute_result"
    }
   ],
   "source": [
    "function ising_element_1D(i1::Int, i2::Int, β::Float64, J::Float64)\n",
    "    σ1 = 2*i1 -1 \n",
    "    σ2 = 2*i2 -1\n",
    "    return exp(β * J * σ1 * σ2)\n",
    "end\n"
   ]
  },
  {
   "cell_type": "code",
   "execution_count": null,
   "id": "13329fa8",
   "metadata": {},
   "outputs": [
    {
     "data": {
      "text/plain": [
       "ising_partition_1D_loop (generic function with 1 method)"
      ]
     },
     "execution_count": 18,
     "metadata": {},
     "output_type": "execute_result"
    }
   ],
   "source": [
    "function ising_partition_1D_loop(N::Int, β::Float64, J::Float64; left::Int=1, right::Int=1)\n",
    "    if N < 2\n",
    "        error(\"N must be ≥ 2\")\n",
    "    elseif N == 2\n",
    "        # 端しかないとき\n",
    "        return ising_element_1D(left, right, β, J)\n",
    "    end\n",
    "\n",
    "    n_middle = N - 2\n",
    "    total = 0.0\n",
    "\n",
    "    # 全ての中間スピン構成（2^(N-2) 通り）をループ\n",
    "    for n in 0:(2^n_middle - 1)\n",
    "         # 2進数に変換 \n",
    "        middle = digits(n, base=2, pad=n_middle)\n",
    "        # フルなスピン配列\n",
    "        config = [left; middle; right]\n",
    "        # 重み（ボルツマン因子）の積を計算\n",
    "        weight = 1.0\n",
    "        for i in 1:(N-1)\n",
    "            weight *= ising_element_1D(config[i], config[i+1], β, J)\n",
    "        end\n",
    "        total += weight\n",
    "    end\n",
    "\n",
    "    return total\n",
    "end"
   ]
  },
  {
   "cell_type": "code",
   "execution_count": 23,
   "id": "4f4d9236",
   "metadata": {},
   "outputs": [
    {
     "name": "stdout",
     "output_type": "stream",
     "text": [
      "Z11 = ising_partition_1D_loop(N, β, J; left = 1, right = 1) = 21.189175246701993\n",
      "Z11_ref = 0.5 * (2 * cosh(β * J)) ^ (N - 1) + 0.5 * (2 * sinh(β * J)) ^ (N - 1) = 21.189175246701993\n",
      "errors = abs(Z11 - Z11_ref) = 0.0\n"
     ]
    }
   ],
   "source": [
    "N = 4\n",
    "β = 1.0\n",
    "J = 1.0\n",
    "@show Z11 = ising_partition_1D_loop(N, β, J; left=1, right=1)\n",
    "@show Z11_ref = 0.5 * (2*cosh(β*J))^(N-1) + 0.5 * (2*sinh(β*J))^(N-1)\n",
    "@show errors = abs(Z11 - Z11_ref)\n",
    ";"
   ]
  }
 ],
 "metadata": {
  "kernelspec": {
   "display_name": "Julia 1.11.5",
   "language": "julia",
   "name": "julia-1.11"
  },
  "language_info": {
   "file_extension": ".jl",
   "mimetype": "application/julia",
   "name": "julia",
   "version": "1.11.5"
  }
 },
 "nbformat": 4,
 "nbformat_minor": 5
}

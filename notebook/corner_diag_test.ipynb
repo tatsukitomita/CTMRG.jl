{
 "cells": [
  {
   "cell_type": "markdown",
   "id": "11e4dec8",
   "metadata": {},
   "source": [
    "$$　角転送行列の対角化"
   ]
  },
  {
   "cell_type": "code",
   "execution_count": 4,
   "id": "80b8ee56",
   "metadata": {},
   "outputs": [],
   "source": [
    "using Revise\n",
    "using Test"
   ]
  },
  {
   "cell_type": "code",
   "execution_count": 5,
   "id": "f4f69b90",
   "metadata": {},
   "outputs": [
    {
     "name": "stderr",
     "output_type": "stream",
     "text": [
      "\u001b[36m\u001b[1m[ \u001b[22m\u001b[39m\u001b[36m\u001b[1mInfo: \u001b[22m\u001b[39mPrecompiling CTMRG [c050b7f9-16a0-4967-b3f3-566d5b3f75cc] (cache misses: include_dependency fsize change (2))\n"
     ]
    }
   ],
   "source": [
    "using LinearAlgebra\n",
    "using ITensors\n",
    "import CTMRG"
   ]
  },
  {
   "cell_type": "code",
   "execution_count": 6,
   "id": "0db507e8",
   "metadata": {},
   "outputs": [
    {
     "data": {
      "text/plain": [
       "1.0"
      ]
     },
     "execution_count": 6,
     "metadata": {},
     "output_type": "execute_result"
    }
   ],
   "source": [
    "β = 1.0\n",
    "J = 1.0"
   ]
  },
  {
   "cell_type": "code",
   "execution_count": 7,
   "id": "30ba82a2",
   "metadata": {},
   "outputs": [
    {
     "name": "stdout",
     "output_type": "stream",
     "text": [
      "σ = CTMRG.make_2D_index_σtags(1) = Index[(dim=2|id=488|\"i=1,j=1,σ\") (dim=2|id=806|\"i=2,j=1,σ\"); (dim=2|id=318|\"i=1,j=2,σ\") (dim=2|id=248|\"i=2,j=2,σ\"); (dim=2|id=163|\"i=1,j=3,σ\") (dim=2|id=803|\"i=2,j=3,σ\")]\n",
      "s = CTMRG.make_2D_index_stags(1) = Index[(dim=2|id=191|\"i=1,j=1,s\") (dim=2|id=800|\"i=2,j=1,s\") (dim=2|id=471|\"i=3,j=1,s\"); (dim=2|id=527|\"i=1,j=2,s\") (dim=2|id=148|\"i=2,j=2,s\") (dim=2|id=984|\"i=3,j=2,s\")]\n"
     ]
    }
   ],
   "source": [
    "#内部テンソルと境界条件を作る。\n",
    "@show σ = CTMRG.make_2D_index_σtags(1)\n",
    "@show s = CTMRG.make_2D_index_stags(1)\n",
    "T_list = CTMRG.make_inner_tensors(1, β, J, s, σ)\n",
    ";"
   ]
  },
  {
   "cell_type": "code",
   "execution_count": 8,
   "id": "0807d507",
   "metadata": {},
   "outputs": [
    {
     "data": {
      "text/plain": [
       "setup_tensors_2D_initial (generic function with 1 method)"
      ]
     },
     "execution_count": 8,
     "metadata": {},
     "output_type": "execute_result"
    }
   ],
   "source": [
    "#初期化テンソルを作る関数\n",
    "N = 4\n",
    "T_list = Array{ITensor}(undef, N, N)\n",
    "\n",
    "for i in 1:N, j in 1:N\n",
    "    T_list[i, j] = ITensor(true)\n",
    "end\n",
    "function setup_tensors_2D_initial(L)\n",
    "    T_list = Array{ITensor}(undef, 2*L, 2*L)\n",
    "    for i in 1:2*L, j in 1:2*L\n",
    "        T_list[i, j] = ITensor(true)\n",
    "    end\n",
    "    return T_list\n",
    "end"
   ]
  },
  {
   "cell_type": "code",
   "execution_count": null,
   "id": "cfca28e2",
   "metadata": {},
   "outputs": [],
   "source": [
    "#境界条件との縮約をとった関数を定義する関数。\n",
    "function \n",
    "for (i, Ddown) in enumerate(Ddown_list)\n",
    "    T1_list[i,1] = T_list[i,1] * Ddown\n",
    "end\n",
    "for (i, L) in enumerate(L_list)\n",
    "    ord = order(T1_list[1,i])\n",
    "    if ord == 0\n",
    "        T1_list[1,i] = T_list[1,i] * L\n",
    "    else\n",
    "        T1_list[1,i] = T1_list[1,i] * L\n",
    "    end\n",
    "end\n",
    "for (i, Dup) in enumerate(Dup_list)\n",
    "    ord = order(T1_list[i,2*L])\n",
    "    if ord == 0\n",
    "        T1_list[i,2*L] = T_list[i,2*L] * Dup\n",
    "    else\n",
    "        T1_list[i,2*L] = T1_list[i,2*L] * Dup\n",
    "    end\n",
    "end\n",
    "for (i, R) in enumerate(R_list)\n",
    "    ord = order(T1_list[2*L,i])\n",
    "    if ord == 0\n",
    "        T1_list[2*L,i] = T_list[2*L,i] * R\n",
    "    else\n",
    "        T1_list[2*L,i] = T1_list[2*L,i] * R\n",
    "    end\n",
    "end"
   ]
  }
 ],
 "metadata": {
  "kernelspec": {
   "display_name": "Julia 1.11.5",
   "language": "julia",
   "name": "julia-1.11"
  },
  "language_info": {
   "file_extension": ".jl",
   "mimetype": "application/julia",
   "name": "julia",
   "version": "1.11.5"
  }
 },
 "nbformat": 4,
 "nbformat_minor": 5
}

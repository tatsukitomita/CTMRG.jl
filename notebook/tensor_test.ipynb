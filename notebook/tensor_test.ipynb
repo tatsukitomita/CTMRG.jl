{
 "cells": [
  {
   "cell_type": "code",
   "execution_count": 2,
   "id": "82c5521a",
   "metadata": {},
   "outputs": [],
   "source": [
    "using Revise"
   ]
  },
  {
   "cell_type": "code",
   "execution_count": 3,
   "id": "39ce48d8",
   "metadata": {},
   "outputs": [],
   "source": [
    "using ITensors\n",
    "using Test"
   ]
  },
  {
   "cell_type": "code",
   "execution_count": null,
   "id": "0fec51ef",
   "metadata": {},
   "outputs": [
    {
     "name": "stdout",
     "output_type": "stream",
     "text": [
      "T1 = ITensor(sites_s1) = ITensor ord=1\n",
      "Dim 1: (dim=2|id=30|\"m=1,s1\")\n",
      "NDTensors.EmptyStorage{NDTensors.EmptyNumber, NDTensors.Dense{NDTensors.EmptyNumber, Vector{NDTensors.EmptyNumber}}}\n",
      " 2-element\n",
      "\n",
      "\n",
      "T2 = ITensor(sites_s1, sites_s2) = ITensor ord=2\n",
      "Dim 1: (dim=2|id=30|\"m=1,s1\")\n",
      "Dim 2: (dim=2|id=207|\"n=1,s2\")\n",
      "NDTensors.EmptyStorage{NDTensors.EmptyNumber, NDTensors.Dense{NDTensors.EmptyNumber, Vector{NDTensors.EmptyNumber}}}\n",
      " 2×2\n",
      "\n",
      "\n"
     ]
    }
   ],
   "source": [
    "sites_s1 = Index(2, \"s1,m=1\")\n",
    "@show T1 = ITensor(sites_s1) \n",
    "sites_s2 = Index(2, \"s2,n=1\")\n",
    "@show T2 = ITensor(sites_s1, sites_s2) \n",
    ";"
   ]
  },
  {
   "cell_type": "code",
   "execution_count": 5,
   "id": "c9f42727",
   "metadata": {},
   "outputs": [
    {
     "name": "stdout",
     "output_type": "stream",
     "text": [
      "T1 = ITensor(s1) = ITensor ord=1\n",
      "Dim 1: (dim=2|id=223|\"m=1,s1\")\n",
      "NDTensors.EmptyStorage{NDTensors.EmptyNumber, NDTensors.Dense{NDTensors.EmptyNumber, Vector{NDTensors.EmptyNumber}}}\n",
      " 2-element\n",
      "\n",
      "\n"
     ]
    },
    {
     "data": {
      "text/plain": [
       "1.0"
      ]
     },
     "execution_count": 5,
     "metadata": {},
     "output_type": "execute_result"
    }
   ],
   "source": [
    "s1 = Index(2, \"s1,m=1\")\n",
    "@show T1 = ITensor(s1) \n",
    "T1[s1=>1] = 1.0"
   ]
  },
  {
   "cell_type": "code",
   "execution_count": null,
   "id": "3b50001f",
   "metadata": {},
   "outputs": [],
   "source": [
    "s1 = Index(2, \"s1,m=1\")\n",
    "s2 = Index(2, \"s2,n=1\")\n",
    "@show T = ITensor(s1, s2) \n",
    "T[s1=>1, s2=>2] = 1.0\n",
    "T[s1=>1, s2=>1] = 1.0\n",
    ";"
   ]
  },
  {
   "cell_type": "code",
   "execution_count": 7,
   "id": "ebf304f3",
   "metadata": {},
   "outputs": [
    {
     "data": {
      "text/plain": [
       "oneleg_tensor (generic function with 2 methods)"
      ]
     },
     "execution_count": 7,
     "metadata": {},
     "output_type": "execute_result"
    }
   ],
   "source": [
    "function oneleg_tensor(s1::String,s1_value::Int, m::String,n::Int)\n",
    "    sites_s = Index(s1_value, \"$s1,$m=$n\")\n",
    "    T = ITensor(sites_s)\n",
    "    return T,sites_s\n",
    "end\n",
    "function oneleg_tensor(idx::Index)\n",
    "    T = ITensor(idx)\n",
    "    return T,idx\n",
    "end\n",
    "#=\n",
    "function set_oneleg_value(T::ITensor, idx::Index, i::Int, value::Float64)\n",
    "        T[idx => i] = values\n",
    "    return T\n",
    "end\n",
    "=#"
   ]
  },
  {
   "cell_type": "code",
   "execution_count": 8,
   "id": "286e856e",
   "metadata": {},
   "outputs": [
    {
     "name": "stdout",
     "output_type": "stream",
     "text": [
      "\u001b[0m\u001b[1mTest Summary:     | \u001b[22m\u001b[32m\u001b[1mPass  \u001b[22m\u001b[39m\u001b[36m\u001b[1mTotal  \u001b[22m\u001b[39m\u001b[0m\u001b[1mTime\u001b[22m\n",
      "oneleg_tensorのテスト | \u001b[32m   3  \u001b[39m\u001b[36m    3  \u001b[39m\u001b[0m0.2s\n",
      "\u001b[0m\u001b[1mTest Summary:     | \u001b[22m\u001b[32m\u001b[1mPass  \u001b[22m\u001b[39m\u001b[36m\u001b[1mTotal  \u001b[22m\u001b[39m\u001b[0m\u001b[1mTime\u001b[22m\n",
      "oneleg_tensorのテスト | \u001b[32m   3  \u001b[39m\u001b[36m    3  \u001b[39m\u001b[0m0.0s\n"
     ]
    }
   ],
   "source": [
    "#oneleg_tensorのテスト\n",
    "sites_s1 = Index(2, \"s1,m=1\")\n",
    "T1 = ITensor(sites_s1) \n",
    "T,sits_s = oneleg_tensor(\"s1\", 2, \"m\", 1)\n",
    "@testset \"oneleg_tensorのテスト\" begin\n",
    "    T,sites_s = oneleg_tensor(\"s1\", 2, \"m\", 1)\n",
    "    @test isa(T, ITensor)\n",
    "    @test isa(sites_s, Index)\n",
    "    @test dim(sites_s) == 2\n",
    "end\n",
    "@testset \"oneleg_tensorのテスト\" begin\n",
    "    idx = Index(2, \"s1,m=1\")\n",
    "    T,sites_s = oneleg_tensor(idx)\n",
    "    @test isa(T, ITensor)\n",
    "    @test isa(sites_s, Index)\n",
    "    @test dim(sites_s) == 2\n",
    "end\n",
    ";"
   ]
  },
  {
   "cell_type": "code",
   "execution_count": 9,
   "id": "3cdd4ed3",
   "metadata": {},
   "outputs": [
    {
     "name": "stdout",
     "output_type": "stream",
     "text": [
      "T1 = ITensor ord=1\n",
      "Dim 1: (dim=2|id=187|\"m=1,s1\")\n",
      "NDTensors.Dense{Float64, Vector{Float64}}\n",
      " 2-element\n",
      " 1.0\n",
      " 2.0\n"
     ]
    }
   ],
   "source": [
    "#1サイトテンソルに値をセットする練習\n",
    "value_list = [1.0, 2.0]\n",
    "s1 = Index(2, \"s1,m=1\")\n",
    "T1 = ITensor(s1)\n",
    "for (i, val) in enumerate(value_list)\n",
    "    T1[s1 => i] = val\n",
    "end\n",
    "@show T1\n",
    ";"
   ]
  },
  {
   "cell_type": "code",
   "execution_count": 10,
   "id": "8b870c57",
   "metadata": {},
   "outputs": [
    {
     "name": "stdout",
     "output_type": "stream",
     "text": [
      "idx = Index(2, \"s1,m=1\") = (dim=2|id=285|\"m=1,s1\")\n",
      "tags(idx) = \"m=1,s1\"\n",
      "taglist = string.(tags(idx)) = [\"m=1\", \"s1\"]\n"
     ]
    },
    {
     "data": {
      "text/plain": [
       "\"s1\""
      ]
     },
     "execution_count": 10,
     "metadata": {},
     "output_type": "execute_result"
    }
   ],
   "source": [
    "@show idx = Index(2, \"s1,m=1\")\n",
    "@show tags(idx) \n",
    "@show taglist = string.(tags(idx))  # → [\"s1,m=1\"]\n",
    "parts = split(taglist[2], \",\")  # → [\"s1\", \"m=1\"]\n",
    "\n",
    "s1 = parts[1]  \n"
   ]
  },
  {
   "cell_type": "code",
   "execution_count": 11,
   "id": "c03958e1",
   "metadata": {},
   "outputs": [
    {
     "data": {
      "text/plain": [
       "twoleg_tensor (generic function with 2 methods)"
      ]
     },
     "execution_count": 11,
     "metadata": {},
     "output_type": "execute_result"
    }
   ],
   "source": [
    "function twoleg_tensor(s1::String, s2::String,\n",
    "    s1_value::Int, s2_value::Int, \n",
    "    m::String, n1::Int,n2::Int)\n",
    "    sites_s1 = Index(s1_value, \"$s1,$m=$n1\")\n",
    "    sites_s2 = Index(s2_value, \"$s2,$m=$n2\")\n",
    "    T = ITensor(sites_s1, sites_s2)\n",
    "    return T, sites_s1, sites_s2\n",
    "end\n",
    "function twoleg_tensor(idx1::Index, idx2::Index)\n",
    "    T = ITensor(idx1, idx2)\n",
    "    return T, idx1, idx2\n",
    "end\n"
   ]
  },
  {
   "cell_type": "code",
   "execution_count": 12,
   "id": "87dedb50",
   "metadata": {},
   "outputs": [
    {
     "name": "stdout",
     "output_type": "stream",
     "text": [
      "\u001b[0m\u001b[1mTest Summary:     | \u001b[22m\u001b[32m\u001b[1mPass  \u001b[22m\u001b[39m\u001b[36m\u001b[1mTotal  \u001b[22m\u001b[39m\u001b[0m\u001b[1mTime\u001b[22m\n",
      "twoleg_tensorのテスト | \u001b[32m   5  \u001b[39m\u001b[36m    5  \u001b[39m\u001b[0m0.0s\n",
      "\u001b[0m\u001b[1mTest Summary:      | \u001b[22m\u001b[32m\u001b[1mPass  \u001b[22m\u001b[39m\u001b[36m\u001b[1mTotal  \u001b[22m\u001b[39m\u001b[0m\u001b[1mTime\u001b[22m\n",
      "twoleg_tensorのテスト2 | \u001b[32m   5  \u001b[39m\u001b[36m    5  \u001b[39m\u001b[0m0.0s\n"
     ]
    }
   ],
   "source": [
    "@testset \"twoleg_tensorのテスト\" begin\n",
    "    T, sites_s1, sites_s2 = twoleg_tensor(\"s1\", \"s2\", 2, 2, \"m\", 1, 2)\n",
    "    @test isa(T, ITensor)\n",
    "    @test isa(sites_s1, Index)\n",
    "    @test isa(sites_s2, Index)\n",
    "    @test dim(sites_s1) == 2\n",
    "    @test dim(sites_s2) == 2\n",
    "end\n",
    "@testset \"twoleg_tensorのテスト2\" begin\n",
    "    idx1 = Index(2, \"s1,m=1\")\n",
    "    idx2 = Index(2, \"s2,n=1\")\n",
    "    T, sites_s1, sites_s2 = twoleg_tensor(idx1, idx2)\n",
    "    @test isa(T, ITensor)\n",
    "    @test isa(sites_s1, Index)\n",
    "    @test isa(sites_s2, Index)\n",
    "    @test dim(sites_s1) == 2\n",
    "    @test dim(sites_s2) == 2\n",
    "end\n",
    ";"
   ]
  },
  {
   "cell_type": "code",
   "execution_count": 13,
   "id": "1d212923",
   "metadata": {},
   "outputs": [
    {
     "name": "stdout",
     "output_type": "stream",
     "text": [
      "T2 = ITensor ord=2\n",
      "Dim 1: (dim=2|id=370|\"m=1,s1\")\n",
      "Dim 2: (dim=2|id=396|\"n=1,s2\")\n",
      "NDTensors.Dense{Float64, Vector{Float64}}\n",
      " 2×2\n",
      " 1.0  2.0\n",
      " 3.0  4.0\n"
     ]
    },
    {
     "data": {
      "text/plain": [
       "ITensor ord=2 (dim=2|id=370|\"m=1,s1\") (dim=2|id=396|\"n=1,s2\")\n",
       "NDTensors.Dense{Float64, Vector{Float64}}"
      ]
     },
     "execution_count": 13,
     "metadata": {},
     "output_type": "execute_result"
    }
   ],
   "source": [
    "#2サイトテンソルに値をセットする練習\n",
    "value_list = [1.0, 2.0, 3.0, 4.0]\n",
    "s1 = Index(2, \"s1,m=1\")\n",
    "s2 = Index(2, \"s2,n=1\")\n",
    "T2 = ITensor(s1, s2)\n",
    "#=\n",
    "for (i, val) in enumerate(value_list)\n",
    "    if i == 1\n",
    "        T2[s1 => 1, s2 => 1] = val\n",
    "    elseif i == 2\n",
    "        T2[s1 => 1, s2 => 2] = val\n",
    "    elseif i == 3\n",
    "        T2[s1 => 2, s2 => 1] = val\n",
    "    elseif i == 4\n",
    "        T2[s1 => 2, s2 => 2] = val\n",
    "    end\n",
    "end\n",
    "=#\n",
    "for i in 1:2, j in 1:2\n",
    "    T2[s1 => i, s2 => j] = value_list[(i - 1) * 2 + j]\n",
    "end\n",
    "@show T2\n"
   ]
  },
  {
   "cell_type": "code",
   "execution_count": null,
   "id": "7c066b3d",
   "metadata": {},
   "outputs": [
    {
     "data": {
      "text/plain": [
       "fourleg_tensor (generic function with 1 method)"
      ]
     },
     "execution_count": 14,
     "metadata": {},
     "output_type": "execute_result"
    }
   ],
   "source": [
    "#3サイトテンソル\n",
    "function threeleq_tensor(idx1::Index, idx2::Index, idx3::Index)\n",
    "    T = ITensor(idx1, idx2, idx3)\n",
    "    return T, idx1, idx2, idx3\n",
    "end\n",
    "#4サイトテンソル\n",
    "function fourleg_tensor(idx1::Index, idx2::Index, idx3::Index, idx4::Index)\n",
    "    T = ITensor(idx1, idx2, idx3, idx4)\n",
    "    return T, idx1, idx2, idx3, idx4\n",
    "end"
   ]
  },
  {
   "cell_type": "code",
   "execution_count": null,
   "id": "a06cdcdb",
   "metadata": {},
   "outputs": [],
   "source": []
  }
 ],
 "metadata": {
  "kernelspec": {
   "display_name": "Julia 1.11.5",
   "language": "julia",
   "name": "julia-1.11"
  },
  "language_info": {
   "file_extension": ".jl",
   "mimetype": "application/julia",
   "name": "julia",
   "version": "1.11.5"
  }
 },
 "nbformat": 4,
 "nbformat_minor": 5
}
